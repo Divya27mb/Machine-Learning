{
 "cells": [
  {
   "cell_type": "markdown",
   "metadata": {},
   "source": [
    "# Assignment #2 - Classification\n",
    "\n",
    "<font color=\"red\"> <b> Due: Oct 11 (Thursday) 11:00 pm </b> </font>"
   ]
  },
  {
   "cell_type": "markdown",
   "metadata": {},
   "source": [
    "<font color=\"blue\"> Divya Patel </font>"
   ]
  },
  {
   "cell_type": "markdown",
   "metadata": {},
   "source": [
    "# I. Introduction\n",
    "\n",
    "* In this assignmnet, I implemented four classification methods QDA, LDA, Pocket algorithm and Logistic Regression. Algorithms are for binary classification.\n",
    "* Here I used data of magic telescope reading. I devide my data in two part. One for training and second for testing. Using our classification algorithm, I try to classify test data. \n",
    "* I also tried to find accuracy of each algorithm. For that I used evalution matrix, ROC curve, PR curve and measurement like precision, recall etc. I also tried to understand when, where and how to use this measurment to find algorithm accuracy. "
   ]
  },
  {
   "cell_type": "markdown",
   "metadata": {},
   "source": [
    "# II. Data"
   ]
  },
  {
   "cell_type": "markdown",
   "metadata": {},
   "source": [
    "## Introduction and Source Of Data\n",
    "\n",
    "* I get data from https://archive.ics.uci.edu/ml/datasets/magic+gamma+telescope this link. This data has magic telescope reading. Magic telescopes means Major Atmospheric Gamma Imaging Cherenkov Telescopes. The data are MC generated (see below) to simulate registration of high energy gamma particles in a ground-based atmospheric Cherenkov gamma telescope using the imaging technique. Cherenkov gamma telescope observes high energy gamma rays, taking advantage of the radiation emitted by charged particles produced inside the electromagnetic showers initiated by the gammas, and developing in the atmosphere. \n",
    "* The data is size of 19020 instance and with 12 features. One feature has lable class which has two value g and h. Here g means gamma signal and h means hardon background.\n",
    "* Owner of Data: R. K. Bock . \n",
    "  Major Atmospheric Gamma Imaging Cherenkov Telescope project (MAGIC) \n",
    "  http://wwwmagic.mppmu.mpg.de \n",
    "  rkb '@' mail.cern.ch \n"
   ]
  },
  {
   "cell_type": "markdown",
   "metadata": {},
   "source": [
    "## Attribute of Data\n",
    "\n",
    "1. fLength: continuous # major axis of ellipse [mm] \n",
    "2. fWidth: continuous # minor axis of ellipse [mm] \n",
    "3. fSize: continuous # 10-log of sum of content of all pixels [in #phot] \n",
    "4. fConc: continuous # ratio of sum of two highest pixels over fSize [ratio] \n",
    "5. fConc1: continuous # ratio of highest pixel over fSize [ratio] \n",
    "6. fAsym: continuous # distance from highest pixel to center, projected onto major axis [mm] \n",
    "7. fM3Long: continuous # 3rd root of third moment along major axis [mm] \n",
    "8. fM3Trans: continuous # 3rd root of third moment along minor axis [mm] \n",
    "9. fAlpha: continuous # angle of major axis with vector to origin [deg] \n",
    "10. fDist: continuous # distance from origin to center of ellipse [mm] \n",
    "11. class: g,h # gamma (signal), hadron (background) "
   ]
  },
  {
   "cell_type": "markdown",
   "metadata": {},
   "source": [
    "## Reading Data"
   ]
  },
  {
   "cell_type": "code",
   "execution_count": 1,
   "metadata": {},
   "outputs": [],
   "source": [
    "import pandas as pd\n",
    "import matplotlib.pyplot as plt \n",
    "import numpy as np\n",
    "%matplotlib inline"
   ]
  },
  {
   "cell_type": "code",
   "execution_count": 2,
   "metadata": {},
   "outputs": [
    {
     "data": {
      "text/html": [
       "<div>\n",
       "<style scoped>\n",
       "    .dataframe tbody tr th:only-of-type {\n",
       "        vertical-align: middle;\n",
       "    }\n",
       "\n",
       "    .dataframe tbody tr th {\n",
       "        vertical-align: top;\n",
       "    }\n",
       "\n",
       "    .dataframe thead th {\n",
       "        text-align: right;\n",
       "    }\n",
       "</style>\n",
       "<table border=\"1\" class=\"dataframe\">\n",
       "  <thead>\n",
       "    <tr style=\"text-align: right;\">\n",
       "      <th></th>\n",
       "      <th>ID</th>\n",
       "      <th>fLength:</th>\n",
       "      <th>fWidth:</th>\n",
       "      <th>fSize:</th>\n",
       "      <th>fConc:</th>\n",
       "      <th>fConc1:</th>\n",
       "      <th>fAsym:</th>\n",
       "      <th>fM3Long:</th>\n",
       "      <th>fM3Trans:</th>\n",
       "      <th>fAlpha:</th>\n",
       "      <th>fDist:</th>\n",
       "      <th>class:</th>\n",
       "    </tr>\n",
       "  </thead>\n",
       "  <tbody>\n",
       "    <tr>\n",
       "      <th>0</th>\n",
       "      <td>1</td>\n",
       "      <td>28.7967</td>\n",
       "      <td>16.0021</td>\n",
       "      <td>2.6449</td>\n",
       "      <td>0.3918</td>\n",
       "      <td>0.1982</td>\n",
       "      <td>27.7004</td>\n",
       "      <td>22.0110</td>\n",
       "      <td>-8.2027</td>\n",
       "      <td>40.0920</td>\n",
       "      <td>81.8828</td>\n",
       "      <td>g</td>\n",
       "    </tr>\n",
       "    <tr>\n",
       "      <th>1</th>\n",
       "      <td>2</td>\n",
       "      <td>31.6036</td>\n",
       "      <td>11.7235</td>\n",
       "      <td>2.5185</td>\n",
       "      <td>0.5303</td>\n",
       "      <td>0.3773</td>\n",
       "      <td>26.2722</td>\n",
       "      <td>23.8238</td>\n",
       "      <td>-9.9574</td>\n",
       "      <td>6.3609</td>\n",
       "      <td>205.2610</td>\n",
       "      <td>g</td>\n",
       "    </tr>\n",
       "    <tr>\n",
       "      <th>2</th>\n",
       "      <td>3</td>\n",
       "      <td>162.0520</td>\n",
       "      <td>136.0310</td>\n",
       "      <td>4.0612</td>\n",
       "      <td>0.0374</td>\n",
       "      <td>0.0187</td>\n",
       "      <td>116.7410</td>\n",
       "      <td>-64.8580</td>\n",
       "      <td>-45.2160</td>\n",
       "      <td>76.9600</td>\n",
       "      <td>256.7880</td>\n",
       "      <td>g</td>\n",
       "    </tr>\n",
       "    <tr>\n",
       "      <th>3</th>\n",
       "      <td>4</td>\n",
       "      <td>23.8172</td>\n",
       "      <td>9.5728</td>\n",
       "      <td>2.3385</td>\n",
       "      <td>0.6147</td>\n",
       "      <td>0.3922</td>\n",
       "      <td>27.2107</td>\n",
       "      <td>-6.4633</td>\n",
       "      <td>-7.1513</td>\n",
       "      <td>10.4490</td>\n",
       "      <td>116.7370</td>\n",
       "      <td>g</td>\n",
       "    </tr>\n",
       "    <tr>\n",
       "      <th>4</th>\n",
       "      <td>5</td>\n",
       "      <td>75.1362</td>\n",
       "      <td>30.9205</td>\n",
       "      <td>3.1611</td>\n",
       "      <td>0.3168</td>\n",
       "      <td>0.1832</td>\n",
       "      <td>-5.5277</td>\n",
       "      <td>28.5525</td>\n",
       "      <td>21.8393</td>\n",
       "      <td>4.6480</td>\n",
       "      <td>356.4620</td>\n",
       "      <td>g</td>\n",
       "    </tr>\n",
       "  </tbody>\n",
       "</table>\n",
       "</div>"
      ],
      "text/plain": [
       "   ID  fLength:   fWidth:  fSize:  fConc:  fConc1:    fAsym:  fM3Long:  \\\n",
       "0   1   28.7967   16.0021  2.6449  0.3918   0.1982   27.7004   22.0110   \n",
       "1   2   31.6036   11.7235  2.5185  0.5303   0.3773   26.2722   23.8238   \n",
       "2   3  162.0520  136.0310  4.0612  0.0374   0.0187  116.7410  -64.8580   \n",
       "3   4   23.8172    9.5728  2.3385  0.6147   0.3922   27.2107   -6.4633   \n",
       "4   5   75.1362   30.9205  3.1611  0.3168   0.1832   -5.5277   28.5525   \n",
       "\n",
       "   fM3Trans:  fAlpha:    fDist: class:  \n",
       "0    -8.2027  40.0920   81.8828      g  \n",
       "1    -9.9574   6.3609  205.2610      g  \n",
       "2   -45.2160  76.9600  256.7880      g  \n",
       "3    -7.1513  10.4490  116.7370      g  \n",
       "4    21.8393   4.6480  356.4620      g  "
      ]
     },
     "execution_count": 2,
     "metadata": {},
     "output_type": "execute_result"
    }
   ],
   "source": [
    "df = pd.read_csv('MagicTelescope.csv')\n",
    "df.head() \n",
    "#read csv file in datafram"
   ]
  },
  {
   "cell_type": "markdown",
   "metadata": {},
   "source": [
    "## Data Preprocessing"
   ]
  },
  {
   "cell_type": "markdown",
   "metadata": {},
   "source": [
    "Finding missing and null value"
   ]
  },
  {
   "cell_type": "code",
   "execution_count": 3,
   "metadata": {},
   "outputs": [
    {
     "data": {
      "text/plain": [
       "False"
      ]
     },
     "execution_count": 3,
     "metadata": {},
     "output_type": "execute_result"
    }
   ],
   "source": [
    "np.any(df.isnull())\n"
   ]
  },
  {
   "cell_type": "code",
   "execution_count": 4,
   "metadata": {},
   "outputs": [
    {
     "data": {
      "text/plain": [
       "False"
      ]
     },
     "execution_count": 4,
     "metadata": {},
     "output_type": "execute_result"
    }
   ],
   "source": [
    "np.any(df.isna())"
   ]
  },
  {
   "cell_type": "code",
   "execution_count": 5,
   "metadata": {},
   "outputs": [
    {
     "data": {
      "text/plain": [
       "['ID',\n",
       " 'fLength:',\n",
       " 'fWidth:',\n",
       " 'fSize:',\n",
       " 'fConc:',\n",
       " 'fConc1:',\n",
       " 'fAsym:',\n",
       " 'fM3Long:',\n",
       " 'fM3Trans:',\n",
       " 'fAlpha:',\n",
       " 'fDist:',\n",
       " 'class:']"
      ]
     },
     "execution_count": 5,
     "metadata": {},
     "output_type": "execute_result"
    }
   ],
   "source": [
    "col_name = list(df)\n",
    "col_name"
   ]
  },
  {
   "cell_type": "markdown",
   "metadata": {},
   "source": [
    "ID field is not important so drop from the dataframe."
   ]
  },
  {
   "cell_type": "code",
   "execution_count": 6,
   "metadata": {},
   "outputs": [
    {
     "data": {
      "text/html": [
       "<div>\n",
       "<style scoped>\n",
       "    .dataframe tbody tr th:only-of-type {\n",
       "        vertical-align: middle;\n",
       "    }\n",
       "\n",
       "    .dataframe tbody tr th {\n",
       "        vertical-align: top;\n",
       "    }\n",
       "\n",
       "    .dataframe thead th {\n",
       "        text-align: right;\n",
       "    }\n",
       "</style>\n",
       "<table border=\"1\" class=\"dataframe\">\n",
       "  <thead>\n",
       "    <tr style=\"text-align: right;\">\n",
       "      <th></th>\n",
       "      <th>fLength:</th>\n",
       "      <th>fWidth:</th>\n",
       "      <th>fSize:</th>\n",
       "      <th>fConc:</th>\n",
       "      <th>fConc1:</th>\n",
       "      <th>fAsym:</th>\n",
       "      <th>fM3Long:</th>\n",
       "      <th>fM3Trans:</th>\n",
       "      <th>fAlpha:</th>\n",
       "      <th>fDist:</th>\n",
       "      <th>class:</th>\n",
       "    </tr>\n",
       "  </thead>\n",
       "  <tbody>\n",
       "    <tr>\n",
       "      <th>0</th>\n",
       "      <td>28.7967</td>\n",
       "      <td>16.0021</td>\n",
       "      <td>2.6449</td>\n",
       "      <td>0.3918</td>\n",
       "      <td>0.1982</td>\n",
       "      <td>27.7004</td>\n",
       "      <td>22.0110</td>\n",
       "      <td>-8.2027</td>\n",
       "      <td>40.0920</td>\n",
       "      <td>81.8828</td>\n",
       "      <td>g</td>\n",
       "    </tr>\n",
       "    <tr>\n",
       "      <th>1</th>\n",
       "      <td>31.6036</td>\n",
       "      <td>11.7235</td>\n",
       "      <td>2.5185</td>\n",
       "      <td>0.5303</td>\n",
       "      <td>0.3773</td>\n",
       "      <td>26.2722</td>\n",
       "      <td>23.8238</td>\n",
       "      <td>-9.9574</td>\n",
       "      <td>6.3609</td>\n",
       "      <td>205.2610</td>\n",
       "      <td>g</td>\n",
       "    </tr>\n",
       "    <tr>\n",
       "      <th>2</th>\n",
       "      <td>162.0520</td>\n",
       "      <td>136.0310</td>\n",
       "      <td>4.0612</td>\n",
       "      <td>0.0374</td>\n",
       "      <td>0.0187</td>\n",
       "      <td>116.7410</td>\n",
       "      <td>-64.8580</td>\n",
       "      <td>-45.2160</td>\n",
       "      <td>76.9600</td>\n",
       "      <td>256.7880</td>\n",
       "      <td>g</td>\n",
       "    </tr>\n",
       "    <tr>\n",
       "      <th>3</th>\n",
       "      <td>23.8172</td>\n",
       "      <td>9.5728</td>\n",
       "      <td>2.3385</td>\n",
       "      <td>0.6147</td>\n",
       "      <td>0.3922</td>\n",
       "      <td>27.2107</td>\n",
       "      <td>-6.4633</td>\n",
       "      <td>-7.1513</td>\n",
       "      <td>10.4490</td>\n",
       "      <td>116.7370</td>\n",
       "      <td>g</td>\n",
       "    </tr>\n",
       "    <tr>\n",
       "      <th>4</th>\n",
       "      <td>75.1362</td>\n",
       "      <td>30.9205</td>\n",
       "      <td>3.1611</td>\n",
       "      <td>0.3168</td>\n",
       "      <td>0.1832</td>\n",
       "      <td>-5.5277</td>\n",
       "      <td>28.5525</td>\n",
       "      <td>21.8393</td>\n",
       "      <td>4.6480</td>\n",
       "      <td>356.4620</td>\n",
       "      <td>g</td>\n",
       "    </tr>\n",
       "  </tbody>\n",
       "</table>\n",
       "</div>"
      ],
      "text/plain": [
       "   fLength:   fWidth:  fSize:  fConc:  fConc1:    fAsym:  fM3Long:  fM3Trans:  \\\n",
       "0   28.7967   16.0021  2.6449  0.3918   0.1982   27.7004   22.0110    -8.2027   \n",
       "1   31.6036   11.7235  2.5185  0.5303   0.3773   26.2722   23.8238    -9.9574   \n",
       "2  162.0520  136.0310  4.0612  0.0374   0.0187  116.7410  -64.8580   -45.2160   \n",
       "3   23.8172    9.5728  2.3385  0.6147   0.3922   27.2107   -6.4633    -7.1513   \n",
       "4   75.1362   30.9205  3.1611  0.3168   0.1832   -5.5277   28.5525    21.8393   \n",
       "\n",
       "   fAlpha:    fDist: class:  \n",
       "0  40.0920   81.8828      g  \n",
       "1   6.3609  205.2610      g  \n",
       "2  76.9600  256.7880      g  \n",
       "3  10.4490  116.7370      g  \n",
       "4   4.6480  356.4620      g  "
      ]
     },
     "execution_count": 6,
     "metadata": {},
     "output_type": "execute_result"
    }
   ],
   "source": [
    "df = df.drop(['ID'],axis=1)\n",
    "df.head() #ID is not useful"
   ]
  },
  {
   "cell_type": "markdown",
   "metadata": {},
   "source": [
    "Class g assign to 1 and h assign to 0 to make whole data numeric."
   ]
  },
  {
   "cell_type": "code",
   "execution_count": 10,
   "metadata": {},
   "outputs": [
    {
     "data": {
      "text/html": [
       "<div>\n",
       "<style scoped>\n",
       "    .dataframe tbody tr th:only-of-type {\n",
       "        vertical-align: middle;\n",
       "    }\n",
       "\n",
       "    .dataframe tbody tr th {\n",
       "        vertical-align: top;\n",
       "    }\n",
       "\n",
       "    .dataframe thead th {\n",
       "        text-align: right;\n",
       "    }\n",
       "</style>\n",
       "<table border=\"1\" class=\"dataframe\">\n",
       "  <thead>\n",
       "    <tr style=\"text-align: right;\">\n",
       "      <th></th>\n",
       "      <th>fLength:</th>\n",
       "      <th>fWidth:</th>\n",
       "      <th>fSize:</th>\n",
       "      <th>fConc:</th>\n",
       "      <th>fConc1:</th>\n",
       "      <th>fAsym:</th>\n",
       "      <th>fM3Long:</th>\n",
       "      <th>fM3Trans:</th>\n",
       "      <th>fAlpha:</th>\n",
       "      <th>fDist:</th>\n",
       "      <th>class:</th>\n",
       "    </tr>\n",
       "  </thead>\n",
       "  <tbody>\n",
       "    <tr>\n",
       "      <th>0</th>\n",
       "      <td>-0.577211</td>\n",
       "      <td>-0.336795</td>\n",
       "      <td>-0.381120</td>\n",
       "      <td>0.062758</td>\n",
       "      <td>-0.148919</td>\n",
       "      <td>0.541028</td>\n",
       "      <td>0.224812</td>\n",
       "      <td>-0.405831</td>\n",
       "      <td>0.476803</td>\n",
       "      <td>-1.497826</td>\n",
       "      <td>1</td>\n",
       "    </tr>\n",
       "    <tr>\n",
       "      <th>1</th>\n",
       "      <td>-0.510955</td>\n",
       "      <td>-0.570012</td>\n",
       "      <td>-0.648578</td>\n",
       "      <td>0.820362</td>\n",
       "      <td>1.471737</td>\n",
       "      <td>0.516906</td>\n",
       "      <td>0.260357</td>\n",
       "      <td>-0.490081</td>\n",
       "      <td>-0.815397</td>\n",
       "      <td>0.153121</td>\n",
       "      <td>1</td>\n",
       "    </tr>\n",
       "    <tr>\n",
       "      <th>2</th>\n",
       "      <td>2.568210</td>\n",
       "      <td>6.205695</td>\n",
       "      <td>2.615714</td>\n",
       "      <td>-1.875834</td>\n",
       "      <td>-1.773194</td>\n",
       "      <td>2.044938</td>\n",
       "      <td>-1.478497</td>\n",
       "      <td>-2.182972</td>\n",
       "      <td>1.889174</td>\n",
       "      <td>0.842613</td>\n",
       "      <td>1</td>\n",
       "    </tr>\n",
       "    <tr>\n",
       "      <th>3</th>\n",
       "      <td>-0.694749</td>\n",
       "      <td>-0.687241</td>\n",
       "      <td>-1.029451</td>\n",
       "      <td>1.282035</td>\n",
       "      <td>1.606566</td>\n",
       "      <td>0.532757</td>\n",
       "      <td>-0.333506</td>\n",
       "      <td>-0.355350</td>\n",
       "      <td>-0.658786</td>\n",
       "      <td>-1.031436</td>\n",
       "      <td>1</td>\n",
       "    </tr>\n",
       "    <tr>\n",
       "      <th>4</th>\n",
       "      <td>0.516609</td>\n",
       "      <td>0.476371</td>\n",
       "      <td>0.711138</td>\n",
       "      <td>-0.347497</td>\n",
       "      <td>-0.284652</td>\n",
       "      <td>-0.020200</td>\n",
       "      <td>0.353077</td>\n",
       "      <td>1.036593</td>\n",
       "      <td>-0.881016</td>\n",
       "      <td>2.176369</td>\n",
       "      <td>1</td>\n",
       "    </tr>\n",
       "  </tbody>\n",
       "</table>\n",
       "</div>"
      ],
      "text/plain": [
       "   fLength:   fWidth:    fSize:    fConc:   fConc1:    fAsym:  fM3Long:  \\\n",
       "0 -0.577211 -0.336795 -0.381120  0.062758 -0.148919  0.541028  0.224812   \n",
       "1 -0.510955 -0.570012 -0.648578  0.820362  1.471737  0.516906  0.260357   \n",
       "2  2.568210  6.205695  2.615714 -1.875834 -1.773194  2.044938 -1.478497   \n",
       "3 -0.694749 -0.687241 -1.029451  1.282035  1.606566  0.532757 -0.333506   \n",
       "4  0.516609  0.476371  0.711138 -0.347497 -0.284652 -0.020200  0.353077   \n",
       "\n",
       "   fM3Trans:   fAlpha:    fDist:  class:  \n",
       "0  -0.405831  0.476803 -1.497826       1  \n",
       "1  -0.490081 -0.815397  0.153121       1  \n",
       "2  -2.182972  1.889174  0.842613       1  \n",
       "3  -0.355350 -0.658786 -1.031436       1  \n",
       "4   1.036593 -0.881016  2.176369       1  "
      ]
     },
     "execution_count": 10,
     "metadata": {},
     "output_type": "execute_result"
    }
   ],
   "source": [
    "df['class:'] = df['class:'].apply(lambda i :  1 if i=='g' else -1 )\n",
    "df.head()"
   ]
  },
  {
   "cell_type": "code",
   "execution_count": 9,
   "metadata": {},
   "outputs": [
    {
     "data": {
      "text/html": [
       "<div>\n",
       "<style scoped>\n",
       "    .dataframe tbody tr th:only-of-type {\n",
       "        vertical-align: middle;\n",
       "    }\n",
       "\n",
       "    .dataframe tbody tr th {\n",
       "        vertical-align: top;\n",
       "    }\n",
       "\n",
       "    .dataframe thead th {\n",
       "        text-align: right;\n",
       "    }\n",
       "</style>\n",
       "<table border=\"1\" class=\"dataframe\">\n",
       "  <thead>\n",
       "    <tr style=\"text-align: right;\">\n",
       "      <th></th>\n",
       "      <th>fLength:</th>\n",
       "      <th>fWidth:</th>\n",
       "      <th>fSize:</th>\n",
       "      <th>fConc:</th>\n",
       "      <th>fConc1:</th>\n",
       "      <th>fAsym:</th>\n",
       "      <th>fM3Long:</th>\n",
       "      <th>fM3Trans:</th>\n",
       "      <th>fAlpha:</th>\n",
       "      <th>fDist:</th>\n",
       "    </tr>\n",
       "  </thead>\n",
       "  <tbody>\n",
       "    <tr>\n",
       "      <th>count</th>\n",
       "      <td>1.902000e+04</td>\n",
       "      <td>1.902000e+04</td>\n",
       "      <td>1.902000e+04</td>\n",
       "      <td>1.902000e+04</td>\n",
       "      <td>1.902000e+04</td>\n",
       "      <td>1.902000e+04</td>\n",
       "      <td>1.902000e+04</td>\n",
       "      <td>1.902000e+04</td>\n",
       "      <td>1.902000e+04</td>\n",
       "      <td>1.902000e+04</td>\n",
       "    </tr>\n",
       "    <tr>\n",
       "      <th>mean</th>\n",
       "      <td>-4.303603e-15</td>\n",
       "      <td>3.753698e-15</td>\n",
       "      <td>7.310147e-15</td>\n",
       "      <td>1.457771e-14</td>\n",
       "      <td>2.879155e-15</td>\n",
       "      <td>5.977226e-18</td>\n",
       "      <td>-1.231309e-15</td>\n",
       "      <td>4.408204e-17</td>\n",
       "      <td>-2.402845e-15</td>\n",
       "      <td>-7.680735e-16</td>\n",
       "    </tr>\n",
       "    <tr>\n",
       "      <th>std</th>\n",
       "      <td>1.000000e+00</td>\n",
       "      <td>1.000000e+00</td>\n",
       "      <td>1.000000e+00</td>\n",
       "      <td>1.000000e+00</td>\n",
       "      <td>1.000000e+00</td>\n",
       "      <td>1.000000e+00</td>\n",
       "      <td>1.000000e+00</td>\n",
       "      <td>1.000000e+00</td>\n",
       "      <td>1.000000e+00</td>\n",
       "      <td>1.000000e+00</td>\n",
       "    </tr>\n",
       "    <tr>\n",
       "      <th>min</th>\n",
       "      <td>-1.155832e+00</td>\n",
       "      <td>-1.209032e+00</td>\n",
       "      <td>-1.869910e+00</td>\n",
       "      <td>-2.008756e+00</td>\n",
       "      <td>-1.939694e+00</td>\n",
       "      <td>-7.661113e+00</td>\n",
       "      <td>-6.712250e+00</td>\n",
       "      <td>-9.897733e+00</td>\n",
       "      <td>-1.059076e+00</td>\n",
       "      <td>-2.576353e+00</td>\n",
       "    </tr>\n",
       "    <tr>\n",
       "      <th>25%</th>\n",
       "      <td>-6.825033e-01</td>\n",
       "      <td>-5.623643e-01</td>\n",
       "      <td>-7.361785e-01</td>\n",
       "      <td>-7.905726e-01</td>\n",
       "      <td>-7.798526e-01</td>\n",
       "      <td>-2.745463e-01</td>\n",
       "      <td>-4.585934e-01</td>\n",
       "      <td>-5.329076e-01</td>\n",
       "      <td>-8.465409e-01</td>\n",
       "      <td>-6.867998e-01</td>\n",
       "    </tr>\n",
       "    <tr>\n",
       "      <th>50%</th>\n",
       "      <td>-3.800899e-01</td>\n",
       "      <td>-2.747766e-01</td>\n",
       "      <td>-1.807389e-01</td>\n",
       "      <td>-1.431903e-01</td>\n",
       "      <td>-1.643019e-01</td>\n",
       "      <td>1.409449e-01</td>\n",
       "      <td>9.350087e-02</td>\n",
       "      <td>1.999641e-02</td>\n",
       "      <td>-3.817940e-01</td>\n",
       "      <td>-2.631513e-02</td>\n",
       "    </tr>\n",
       "    <tr>\n",
       "      <th>75%</th>\n",
       "      <td>3.982551e-01</td>\n",
       "      <td>1.394582e-01</td>\n",
       "      <td>5.852387e-01</td>\n",
       "      <td>6.748581e-01</td>\n",
       "      <td>6.385608e-01</td>\n",
       "      <td>4.796037e-01</td>\n",
       "      <td>4.959254e-01</td>\n",
       "      <td>5.135869e-01</td>\n",
       "      <td>6.986710e-01</td>\n",
       "      <td>6.255143e-01</td>\n",
       "    </tr>\n",
       "    <tr>\n",
       "      <th>max</th>\n",
       "      <td>6.631130e+00</td>\n",
       "      <td>1.276574e+01</td>\n",
       "      <td>5.286268e+00</td>\n",
       "      <td>2.804355e+00</td>\n",
       "      <td>4.167401e+00</td>\n",
       "      <td>9.789073e+00</td>\n",
       "      <td>4.466175e+00</td>\n",
       "      <td>8.623301e+00</td>\n",
       "      <td>2.388722e+00</td>\n",
       "      <td>4.037679e+00</td>\n",
       "    </tr>\n",
       "  </tbody>\n",
       "</table>\n",
       "</div>"
      ],
      "text/plain": [
       "           fLength:       fWidth:        fSize:        fConc:       fConc1:  \\\n",
       "count  1.902000e+04  1.902000e+04  1.902000e+04  1.902000e+04  1.902000e+04   \n",
       "mean  -4.303603e-15  3.753698e-15  7.310147e-15  1.457771e-14  2.879155e-15   \n",
       "std    1.000000e+00  1.000000e+00  1.000000e+00  1.000000e+00  1.000000e+00   \n",
       "min   -1.155832e+00 -1.209032e+00 -1.869910e+00 -2.008756e+00 -1.939694e+00   \n",
       "25%   -6.825033e-01 -5.623643e-01 -7.361785e-01 -7.905726e-01 -7.798526e-01   \n",
       "50%   -3.800899e-01 -2.747766e-01 -1.807389e-01 -1.431903e-01 -1.643019e-01   \n",
       "75%    3.982551e-01  1.394582e-01  5.852387e-01  6.748581e-01  6.385608e-01   \n",
       "max    6.631130e+00  1.276574e+01  5.286268e+00  2.804355e+00  4.167401e+00   \n",
       "\n",
       "             fAsym:      fM3Long:     fM3Trans:       fAlpha:        fDist:  \n",
       "count  1.902000e+04  1.902000e+04  1.902000e+04  1.902000e+04  1.902000e+04  \n",
       "mean   5.977226e-18 -1.231309e-15  4.408204e-17 -2.402845e-15 -7.680735e-16  \n",
       "std    1.000000e+00  1.000000e+00  1.000000e+00  1.000000e+00  1.000000e+00  \n",
       "min   -7.661113e+00 -6.712250e+00 -9.897733e+00 -1.059076e+00 -2.576353e+00  \n",
       "25%   -2.745463e-01 -4.585934e-01 -5.329076e-01 -8.465409e-01 -6.867998e-01  \n",
       "50%    1.409449e-01  9.350087e-02  1.999641e-02 -3.817940e-01 -2.631513e-02  \n",
       "75%    4.796037e-01  4.959254e-01  5.135869e-01  6.986710e-01  6.255143e-01  \n",
       "max    9.789073e+00  4.466175e+00  8.623301e+00  2.388722e+00  4.037679e+00  "
      ]
     },
     "execution_count": 9,
     "metadata": {},
     "output_type": "execute_result"
    }
   ],
   "source": [
    "pd.DataFrame(df).describe()"
   ]
  },
  {
   "cell_type": "markdown",
   "metadata": {},
   "source": [
    "* Normalization of data using formula (x-mean)/std .\n",
    "* We can also use [(x-min)/(max-min)]*[new_max-new_min]"
   ]
  },
  {
   "cell_type": "code",
   "execution_count": 7,
   "metadata": {},
   "outputs": [
    {
     "data": {
      "text/html": [
       "<div>\n",
       "<style scoped>\n",
       "    .dataframe tbody tr th:only-of-type {\n",
       "        vertical-align: middle;\n",
       "    }\n",
       "\n",
       "    .dataframe tbody tr th {\n",
       "        vertical-align: top;\n",
       "    }\n",
       "\n",
       "    .dataframe thead th {\n",
       "        text-align: right;\n",
       "    }\n",
       "</style>\n",
       "<table border=\"1\" class=\"dataframe\">\n",
       "  <thead>\n",
       "    <tr style=\"text-align: right;\">\n",
       "      <th></th>\n",
       "      <th>fLength:</th>\n",
       "      <th>fWidth:</th>\n",
       "      <th>fSize:</th>\n",
       "      <th>fConc:</th>\n",
       "      <th>fConc1:</th>\n",
       "      <th>fAsym:</th>\n",
       "      <th>fM3Long:</th>\n",
       "      <th>fM3Trans:</th>\n",
       "      <th>fAlpha:</th>\n",
       "      <th>fDist:</th>\n",
       "    </tr>\n",
       "  </thead>\n",
       "  <tbody>\n",
       "    <tr>\n",
       "      <th>0</th>\n",
       "      <td>-0.577211</td>\n",
       "      <td>-0.336795</td>\n",
       "      <td>-0.381120</td>\n",
       "      <td>0.062758</td>\n",
       "      <td>-0.148919</td>\n",
       "      <td>0.541028</td>\n",
       "      <td>0.224812</td>\n",
       "      <td>-0.405831</td>\n",
       "      <td>0.476803</td>\n",
       "      <td>-1.497826</td>\n",
       "    </tr>\n",
       "    <tr>\n",
       "      <th>1</th>\n",
       "      <td>-0.510955</td>\n",
       "      <td>-0.570012</td>\n",
       "      <td>-0.648578</td>\n",
       "      <td>0.820362</td>\n",
       "      <td>1.471737</td>\n",
       "      <td>0.516906</td>\n",
       "      <td>0.260357</td>\n",
       "      <td>-0.490081</td>\n",
       "      <td>-0.815397</td>\n",
       "      <td>0.153121</td>\n",
       "    </tr>\n",
       "    <tr>\n",
       "      <th>2</th>\n",
       "      <td>2.568210</td>\n",
       "      <td>6.205695</td>\n",
       "      <td>2.615714</td>\n",
       "      <td>-1.875834</td>\n",
       "      <td>-1.773194</td>\n",
       "      <td>2.044938</td>\n",
       "      <td>-1.478497</td>\n",
       "      <td>-2.182972</td>\n",
       "      <td>1.889174</td>\n",
       "      <td>0.842613</td>\n",
       "    </tr>\n",
       "    <tr>\n",
       "      <th>3</th>\n",
       "      <td>-0.694749</td>\n",
       "      <td>-0.687241</td>\n",
       "      <td>-1.029451</td>\n",
       "      <td>1.282035</td>\n",
       "      <td>1.606566</td>\n",
       "      <td>0.532757</td>\n",
       "      <td>-0.333506</td>\n",
       "      <td>-0.355350</td>\n",
       "      <td>-0.658786</td>\n",
       "      <td>-1.031436</td>\n",
       "    </tr>\n",
       "    <tr>\n",
       "      <th>4</th>\n",
       "      <td>0.516609</td>\n",
       "      <td>0.476371</td>\n",
       "      <td>0.711138</td>\n",
       "      <td>-0.347497</td>\n",
       "      <td>-0.284652</td>\n",
       "      <td>-0.020200</td>\n",
       "      <td>0.353077</td>\n",
       "      <td>1.036593</td>\n",
       "      <td>-0.881016</td>\n",
       "      <td>2.176369</td>\n",
       "    </tr>\n",
       "  </tbody>\n",
       "</table>\n",
       "</div>"
      ],
      "text/plain": [
       "   fLength:   fWidth:    fSize:    fConc:   fConc1:    fAsym:  fM3Long:  \\\n",
       "0 -0.577211 -0.336795 -0.381120  0.062758 -0.148919  0.541028  0.224812   \n",
       "1 -0.510955 -0.570012 -0.648578  0.820362  1.471737  0.516906  0.260357   \n",
       "2  2.568210  6.205695  2.615714 -1.875834 -1.773194  2.044938 -1.478497   \n",
       "3 -0.694749 -0.687241 -1.029451  1.282035  1.606566  0.532757 -0.333506   \n",
       "4  0.516609  0.476371  0.711138 -0.347497 -0.284652 -0.020200  0.353077   \n",
       "\n",
       "   fM3Trans:   fAlpha:    fDist:  \n",
       "0  -0.405831  0.476803 -1.497826  \n",
       "1  -0.490081 -0.815397  0.153121  \n",
       "2  -2.182972  1.889174  0.842613  \n",
       "3  -0.355350 -0.658786 -1.031436  \n",
       "4   1.036593 -0.881016  2.176369  "
      ]
     },
     "execution_count": 7,
     "metadata": {},
     "output_type": "execute_result"
    }
   ],
   "source": [
    "ndf = (df.loc[:,df.columns!= 'class:']-df.loc[:,df.columns!= 'class:'].mean())/df.loc[:,df.columns!= 'class:'].std()\n",
    "ndf.head()\n",
    "#Normalization of data"
   ]
  },
  {
   "cell_type": "code",
   "execution_count": 8,
   "metadata": {},
   "outputs": [
    {
     "data": {
      "text/html": [
       "<div>\n",
       "<style scoped>\n",
       "    .dataframe tbody tr th:only-of-type {\n",
       "        vertical-align: middle;\n",
       "    }\n",
       "\n",
       "    .dataframe tbody tr th {\n",
       "        vertical-align: top;\n",
       "    }\n",
       "\n",
       "    .dataframe thead th {\n",
       "        text-align: right;\n",
       "    }\n",
       "</style>\n",
       "<table border=\"1\" class=\"dataframe\">\n",
       "  <thead>\n",
       "    <tr style=\"text-align: right;\">\n",
       "      <th></th>\n",
       "      <th>fLength:</th>\n",
       "      <th>fWidth:</th>\n",
       "      <th>fSize:</th>\n",
       "      <th>fConc:</th>\n",
       "      <th>fConc1:</th>\n",
       "      <th>fAsym:</th>\n",
       "      <th>fM3Long:</th>\n",
       "      <th>fM3Trans:</th>\n",
       "      <th>fAlpha:</th>\n",
       "      <th>fDist:</th>\n",
       "      <th>class:</th>\n",
       "    </tr>\n",
       "  </thead>\n",
       "  <tbody>\n",
       "    <tr>\n",
       "      <th>0</th>\n",
       "      <td>-0.577211</td>\n",
       "      <td>-0.336795</td>\n",
       "      <td>-0.381120</td>\n",
       "      <td>0.062758</td>\n",
       "      <td>-0.148919</td>\n",
       "      <td>0.541028</td>\n",
       "      <td>0.224812</td>\n",
       "      <td>-0.405831</td>\n",
       "      <td>0.476803</td>\n",
       "      <td>-1.497826</td>\n",
       "      <td>g</td>\n",
       "    </tr>\n",
       "    <tr>\n",
       "      <th>1</th>\n",
       "      <td>-0.510955</td>\n",
       "      <td>-0.570012</td>\n",
       "      <td>-0.648578</td>\n",
       "      <td>0.820362</td>\n",
       "      <td>1.471737</td>\n",
       "      <td>0.516906</td>\n",
       "      <td>0.260357</td>\n",
       "      <td>-0.490081</td>\n",
       "      <td>-0.815397</td>\n",
       "      <td>0.153121</td>\n",
       "      <td>g</td>\n",
       "    </tr>\n",
       "    <tr>\n",
       "      <th>2</th>\n",
       "      <td>2.568210</td>\n",
       "      <td>6.205695</td>\n",
       "      <td>2.615714</td>\n",
       "      <td>-1.875834</td>\n",
       "      <td>-1.773194</td>\n",
       "      <td>2.044938</td>\n",
       "      <td>-1.478497</td>\n",
       "      <td>-2.182972</td>\n",
       "      <td>1.889174</td>\n",
       "      <td>0.842613</td>\n",
       "      <td>g</td>\n",
       "    </tr>\n",
       "    <tr>\n",
       "      <th>3</th>\n",
       "      <td>-0.694749</td>\n",
       "      <td>-0.687241</td>\n",
       "      <td>-1.029451</td>\n",
       "      <td>1.282035</td>\n",
       "      <td>1.606566</td>\n",
       "      <td>0.532757</td>\n",
       "      <td>-0.333506</td>\n",
       "      <td>-0.355350</td>\n",
       "      <td>-0.658786</td>\n",
       "      <td>-1.031436</td>\n",
       "      <td>g</td>\n",
       "    </tr>\n",
       "    <tr>\n",
       "      <th>4</th>\n",
       "      <td>0.516609</td>\n",
       "      <td>0.476371</td>\n",
       "      <td>0.711138</td>\n",
       "      <td>-0.347497</td>\n",
       "      <td>-0.284652</td>\n",
       "      <td>-0.020200</td>\n",
       "      <td>0.353077</td>\n",
       "      <td>1.036593</td>\n",
       "      <td>-0.881016</td>\n",
       "      <td>2.176369</td>\n",
       "      <td>g</td>\n",
       "    </tr>\n",
       "  </tbody>\n",
       "</table>\n",
       "</div>"
      ],
      "text/plain": [
       "   fLength:   fWidth:    fSize:    fConc:   fConc1:    fAsym:  fM3Long:  \\\n",
       "0 -0.577211 -0.336795 -0.381120  0.062758 -0.148919  0.541028  0.224812   \n",
       "1 -0.510955 -0.570012 -0.648578  0.820362  1.471737  0.516906  0.260357   \n",
       "2  2.568210  6.205695  2.615714 -1.875834 -1.773194  2.044938 -1.478497   \n",
       "3 -0.694749 -0.687241 -1.029451  1.282035  1.606566  0.532757 -0.333506   \n",
       "4  0.516609  0.476371  0.711138 -0.347497 -0.284652 -0.020200  0.353077   \n",
       "\n",
       "   fM3Trans:   fAlpha:    fDist: class:  \n",
       "0  -0.405831  0.476803 -1.497826      g  \n",
       "1  -0.490081 -0.815397  0.153121      g  \n",
       "2  -2.182972  1.889174  0.842613      g  \n",
       "3  -0.355350 -0.658786 -1.031436      g  \n",
       "4   1.036593 -0.881016  2.176369      g  "
      ]
     },
     "execution_count": 8,
     "metadata": {},
     "output_type": "execute_result"
    }
   ],
   "source": [
    "df = pd.concat([ndf,df.loc[:,'class:']],axis = 1)\n",
    "df.head()"
   ]
  },
  {
   "cell_type": "markdown",
   "metadata": {},
   "source": [
    "## Visualization of Classification Data"
   ]
  },
  {
   "cell_type": "code",
   "execution_count": 11,
   "metadata": {},
   "outputs": [
    {
     "data": {
      "image/png": "[encoded data removed]",
      "text/plain": [
       "<Figure size 1152x864 with 11 Axes>"
      ]
     },
     "metadata": {
      "needs_background": "light"
     },
     "output_type": "display_data"
    }
   ],
   "source": [
    "fig = plt.figure(figsize=(16,12))\n",
    "plt.clf()\n",
    "for i in range(11):\n",
    "    plt.subplot(3, 4, i+1)\n",
    "    plt.plot(df.iloc[:, i])\n",
    "    plt.ylabel(df.columns.values[i])\n",
    "fig.tight_layout()\n",
    "#visualization of every column one by one"
   ]
  },
  {
   "cell_type": "code",
   "execution_count": 12,
   "metadata": {},
   "outputs": [
    {
     "data": {
      "text/html": [
       "<div>\n",
       "<style scoped>\n",
       "    .dataframe tbody tr th:only-of-type {\n",
       "        vertical-align: middle;\n",
       "    }\n",
       "\n",
       "    .dataframe tbody tr th {\n",
       "        vertical-align: top;\n",
       "    }\n",
       "\n",
       "    .dataframe thead th {\n",
       "        text-align: right;\n",
       "    }\n",
       "</style>\n",
       "<table border=\"1\" class=\"dataframe\">\n",
       "  <thead>\n",
       "    <tr style=\"text-align: right;\">\n",
       "      <th></th>\n",
       "      <th>fLength:</th>\n",
       "      <th>fWidth:</th>\n",
       "      <th>fSize:</th>\n",
       "      <th>fConc:</th>\n",
       "      <th>fConc1:</th>\n",
       "      <th>fAsym:</th>\n",
       "      <th>fM3Long:</th>\n",
       "      <th>fM3Trans:</th>\n",
       "      <th>fAlpha:</th>\n",
       "      <th>fDist:</th>\n",
       "      <th>class:</th>\n",
       "    </tr>\n",
       "  </thead>\n",
       "  <tbody>\n",
       "    <tr>\n",
       "      <th>count</th>\n",
       "      <td>1.902000e+04</td>\n",
       "      <td>1.902000e+04</td>\n",
       "      <td>1.902000e+04</td>\n",
       "      <td>1.902000e+04</td>\n",
       "      <td>1.902000e+04</td>\n",
       "      <td>1.902000e+04</td>\n",
       "      <td>1.902000e+04</td>\n",
       "      <td>1.902000e+04</td>\n",
       "      <td>1.902000e+04</td>\n",
       "      <td>1.902000e+04</td>\n",
       "      <td>19020.000000</td>\n",
       "    </tr>\n",
       "    <tr>\n",
       "      <th>mean</th>\n",
       "      <td>-4.303603e-15</td>\n",
       "      <td>3.753698e-15</td>\n",
       "      <td>7.310147e-15</td>\n",
       "      <td>1.457771e-14</td>\n",
       "      <td>2.879155e-15</td>\n",
       "      <td>5.977226e-18</td>\n",
       "      <td>-1.231309e-15</td>\n",
       "      <td>4.408204e-17</td>\n",
       "      <td>-2.402845e-15</td>\n",
       "      <td>-7.680735e-16</td>\n",
       "      <td>0.296740</td>\n",
       "    </tr>\n",
       "    <tr>\n",
       "      <th>std</th>\n",
       "      <td>1.000000e+00</td>\n",
       "      <td>1.000000e+00</td>\n",
       "      <td>1.000000e+00</td>\n",
       "      <td>1.000000e+00</td>\n",
       "      <td>1.000000e+00</td>\n",
       "      <td>1.000000e+00</td>\n",
       "      <td>1.000000e+00</td>\n",
       "      <td>1.000000e+00</td>\n",
       "      <td>1.000000e+00</td>\n",
       "      <td>1.000000e+00</td>\n",
       "      <td>0.954983</td>\n",
       "    </tr>\n",
       "    <tr>\n",
       "      <th>min</th>\n",
       "      <td>-1.155832e+00</td>\n",
       "      <td>-1.209032e+00</td>\n",
       "      <td>-1.869910e+00</td>\n",
       "      <td>-2.008756e+00</td>\n",
       "      <td>-1.939694e+00</td>\n",
       "      <td>-7.661113e+00</td>\n",
       "      <td>-6.712250e+00</td>\n",
       "      <td>-9.897733e+00</td>\n",
       "      <td>-1.059076e+00</td>\n",
       "      <td>-2.576353e+00</td>\n",
       "      <td>-1.000000</td>\n",
       "    </tr>\n",
       "    <tr>\n",
       "      <th>25%</th>\n",
       "      <td>-6.825033e-01</td>\n",
       "      <td>-5.623643e-01</td>\n",
       "      <td>-7.361785e-01</td>\n",
       "      <td>-7.905726e-01</td>\n",
       "      <td>-7.798526e-01</td>\n",
       "      <td>-2.745463e-01</td>\n",
       "      <td>-4.585934e-01</td>\n",
       "      <td>-5.329076e-01</td>\n",
       "      <td>-8.465409e-01</td>\n",
       "      <td>-6.867998e-01</td>\n",
       "      <td>-1.000000</td>\n",
       "    </tr>\n",
       "    <tr>\n",
       "      <th>50%</th>\n",
       "      <td>-3.800899e-01</td>\n",
       "      <td>-2.747766e-01</td>\n",
       "      <td>-1.807389e-01</td>\n",
       "      <td>-1.431903e-01</td>\n",
       "      <td>-1.643019e-01</td>\n",
       "      <td>1.409449e-01</td>\n",
       "      <td>9.350087e-02</td>\n",
       "      <td>1.999641e-02</td>\n",
       "      <td>-3.817940e-01</td>\n",
       "      <td>-2.631513e-02</td>\n",
       "      <td>1.000000</td>\n",
       "    </tr>\n",
       "    <tr>\n",
       "      <th>75%</th>\n",
       "      <td>3.982551e-01</td>\n",
       "      <td>1.394582e-01</td>\n",
       "      <td>5.852387e-01</td>\n",
       "      <td>6.748581e-01</td>\n",
       "      <td>6.385608e-01</td>\n",
       "      <td>4.796037e-01</td>\n",
       "      <td>4.959254e-01</td>\n",
       "      <td>5.135869e-01</td>\n",
       "      <td>6.986710e-01</td>\n",
       "      <td>6.255143e-01</td>\n",
       "      <td>1.000000</td>\n",
       "    </tr>\n",
       "    <tr>\n",
       "      <th>max</th>\n",
       "      <td>6.631130e+00</td>\n",
       "      <td>1.276574e+01</td>\n",
       "      <td>5.286268e+00</td>\n",
       "      <td>2.804355e+00</td>\n",
       "      <td>4.167401e+00</td>\n",
       "      <td>9.789073e+00</td>\n",
       "      <td>4.466175e+00</td>\n",
       "      <td>8.623301e+00</td>\n",
       "      <td>2.388722e+00</td>\n",
       "      <td>4.037679e+00</td>\n",
       "      <td>1.000000</td>\n",
       "    </tr>\n",
       "  </tbody>\n",
       "</table>\n",
       "</div>"
      ],
      "text/plain": [
       "           fLength:       fWidth:        fSize:        fConc:       fConc1:  \\\n",
       "count  1.902000e+04  1.902000e+04  1.902000e+04  1.902000e+04  1.902000e+04   \n",
       "mean  -4.303603e-15  3.753698e-15  7.310147e-15  1.457771e-14  2.879155e-15   \n",
       "std    1.000000e+00  1.000000e+00  1.000000e+00  1.000000e+00  1.000000e+00   \n",
       "min   -1.155832e+00 -1.209032e+00 -1.869910e+00 -2.008756e+00 -1.939694e+00   \n",
       "25%   -6.825033e-01 -5.623643e-01 -7.361785e-01 -7.905726e-01 -7.798526e-01   \n",
       "50%   -3.800899e-01 -2.747766e-01 -1.807389e-01 -1.431903e-01 -1.643019e-01   \n",
       "75%    3.982551e-01  1.394582e-01  5.852387e-01  6.748581e-01  6.385608e-01   \n",
       "max    6.631130e+00  1.276574e+01  5.286268e+00  2.804355e+00  4.167401e+00   \n",
       "\n",
       "             fAsym:      fM3Long:     fM3Trans:       fAlpha:        fDist:  \\\n",
       "count  1.902000e+04  1.902000e+04  1.902000e+04  1.902000e+04  1.902000e+04   \n",
       "mean   5.977226e-18 -1.231309e-15  4.408204e-17 -2.402845e-15 -7.680735e-16   \n",
       "std    1.000000e+00  1.000000e+00  1.000000e+00  1.000000e+00  1.000000e+00   \n",
       "min   -7.661113e+00 -6.712250e+00 -9.897733e+00 -1.059076e+00 -2.576353e+00   \n",
       "25%   -2.745463e-01 -4.585934e-01 -5.329076e-01 -8.465409e-01 -6.867998e-01   \n",
       "50%    1.409449e-01  9.350087e-02  1.999641e-02 -3.817940e-01 -2.631513e-02   \n",
       "75%    4.796037e-01  4.959254e-01  5.135869e-01  6.986710e-01  6.255143e-01   \n",
       "max    9.789073e+00  4.466175e+00  8.623301e+00  2.388722e+00  4.037679e+00   \n",
       "\n",
       "             class:  \n",
       "count  19020.000000  \n",
       "mean       0.296740  \n",
       "std        0.954983  \n",
       "min       -1.000000  \n",
       "25%       -1.000000  \n",
       "50%        1.000000  \n",
       "75%        1.000000  \n",
       "max        1.000000  "
      ]
     },
     "execution_count": 12,
     "metadata": {},
     "output_type": "execute_result"
    }
   ],
   "source": [
    "df.describe()"
   ]
  },
  {
   "cell_type": "code",
   "execution_count": 13,
   "metadata": {},
   "outputs": [
    {
     "data": {
      "image/png": "[encoded data removed]",
      "text/plain": [
       "<Figure size 1152x864 with 10 Axes>"
      ]
     },
     "metadata": {
      "needs_background": "light"
     },
     "output_type": "display_data"
    }
   ],
   "source": [
    "fig = plt.figure(figsize=(16,12))\n",
    "plt.clf()\n",
    "for i in range(10):\n",
    "    plt.subplot(3, 4, i+1)\n",
    "    plt.hist(df[df['class:']==1].iloc[:, i], 50,color = 'red')\n",
    "    plt.hist(df[df['class:']==-1].iloc[:, i], 50,color = 'lime')\n",
    "    plt.xlabel(df.columns.values[i])\n",
    "fig.tight_layout()\n",
    "# Stacked bar chart with x axis is features and y axis is count of class"
   ]
  },
  {
   "cell_type": "code",
   "execution_count": 14,
   "metadata": {},
   "outputs": [
    {
     "data": {
      "image/png": "[encoded data removed]",
      "text/plain": [
       "<Figure size 432x288 with 1 Axes>"
      ]
     },
     "metadata": {},
     "output_type": "display_data"
    }
   ],
   "source": [
    "X = [len(df[df['class:']==1]),len(df[df['class:']==-1])]\n",
    "labels = ['g','h']\n",
    "colors = ['red','lime']     \n",
    "plt.pie(X, labels= labels, colors=colors , autopct='%1.1f%%',shadow=True, startangle=90)\n",
    "plt.show()\n",
    "#Pie chart between g and h class. "
   ]
  },
  {
   "cell_type": "code",
   "execution_count": 16,
   "metadata": {},
   "outputs": [
    {
     "data": {
      "image/png": "[encoded data removed]",
      "text/plain": [
       "<Figure size 720x432 with 3 Axes>"
      ]
     },
     "metadata": {
      "needs_background": "light"
     },
     "output_type": "display_data"
    }
   ],
   "source": [
    "fig = plt.figure(figsize=(10,6))\n",
    "plt.subplot(1,3,1)\n",
    "plt.plot(range(df.shape[0]),df['fConc:'],'r')\n",
    "plt.subplot(1,3,2)\n",
    "plt.plot(range(df.shape[0]),df['fConc1:'],'b')\n",
    "plt.subplot(1,3,3)\n",
    "plt.plot(range(df.shape[0]),df['fConc:'],'r')\n",
    "plt.plot(range(df.shape[0]),df['fConc1:'],'b')\n",
    "fig.tight_layout()\n"
   ]
  },
  {
   "cell_type": "markdown",
   "metadata": {},
   "source": [
    "From this visualization we can drop one of the feature in between fConc and fConc1. In last visualization, we can see it is overlaping most of the part."
   ]
  },
  {
   "cell_type": "code",
   "execution_count": 17,
   "metadata": {},
   "outputs": [
    {
     "data": {
      "text/html": [
       "<div>\n",
       "<style scoped>\n",
       "    .dataframe tbody tr th:only-of-type {\n",
       "        vertical-align: middle;\n",
       "    }\n",
       "\n",
       "    .dataframe tbody tr th {\n",
       "        vertical-align: top;\n",
       "    }\n",
       "\n",
       "    .dataframe thead th {\n",
       "        text-align: right;\n",
       "    }\n",
       "</style>\n",
       "<table border=\"1\" class=\"dataframe\">\n",
       "  <thead>\n",
       "    <tr style=\"text-align: right;\">\n",
       "      <th></th>\n",
       "      <th>fLength:</th>\n",
       "      <th>fWidth:</th>\n",
       "      <th>fSize:</th>\n",
       "      <th>fConc:</th>\n",
       "      <th>fAsym:</th>\n",
       "      <th>fM3Long:</th>\n",
       "      <th>fM3Trans:</th>\n",
       "      <th>fAlpha:</th>\n",
       "      <th>fDist:</th>\n",
       "      <th>class:</th>\n",
       "    </tr>\n",
       "  </thead>\n",
       "  <tbody>\n",
       "    <tr>\n",
       "      <th>0</th>\n",
       "      <td>-0.577211</td>\n",
       "      <td>-0.336795</td>\n",
       "      <td>-0.381120</td>\n",
       "      <td>0.062758</td>\n",
       "      <td>0.541028</td>\n",
       "      <td>0.224812</td>\n",
       "      <td>-0.405831</td>\n",
       "      <td>0.476803</td>\n",
       "      <td>-1.497826</td>\n",
       "      <td>1</td>\n",
       "    </tr>\n",
       "    <tr>\n",
       "      <th>1</th>\n",
       "      <td>-0.510955</td>\n",
       "      <td>-0.570012</td>\n",
       "      <td>-0.648578</td>\n",
       "      <td>0.820362</td>\n",
       "      <td>0.516906</td>\n",
       "      <td>0.260357</td>\n",
       "      <td>-0.490081</td>\n",
       "      <td>-0.815397</td>\n",
       "      <td>0.153121</td>\n",
       "      <td>1</td>\n",
       "    </tr>\n",
       "    <tr>\n",
       "      <th>2</th>\n",
       "      <td>2.568210</td>\n",
       "      <td>6.205695</td>\n",
       "      <td>2.615714</td>\n",
       "      <td>-1.875834</td>\n",
       "      <td>2.044938</td>\n",
       "      <td>-1.478497</td>\n",
       "      <td>-2.182972</td>\n",
       "      <td>1.889174</td>\n",
       "      <td>0.842613</td>\n",
       "      <td>1</td>\n",
       "    </tr>\n",
       "    <tr>\n",
       "      <th>3</th>\n",
       "      <td>-0.694749</td>\n",
       "      <td>-0.687241</td>\n",
       "      <td>-1.029451</td>\n",
       "      <td>1.282035</td>\n",
       "      <td>0.532757</td>\n",
       "      <td>-0.333506</td>\n",
       "      <td>-0.355350</td>\n",
       "      <td>-0.658786</td>\n",
       "      <td>-1.031436</td>\n",
       "      <td>1</td>\n",
       "    </tr>\n",
       "    <tr>\n",
       "      <th>4</th>\n",
       "      <td>0.516609</td>\n",
       "      <td>0.476371</td>\n",
       "      <td>0.711138</td>\n",
       "      <td>-0.347497</td>\n",
       "      <td>-0.020200</td>\n",
       "      <td>0.353077</td>\n",
       "      <td>1.036593</td>\n",
       "      <td>-0.881016</td>\n",
       "      <td>2.176369</td>\n",
       "      <td>1</td>\n",
       "    </tr>\n",
       "  </tbody>\n",
       "</table>\n",
       "</div>"
      ],
      "text/plain": [
       "   fLength:   fWidth:    fSize:    fConc:    fAsym:  fM3Long:  fM3Trans:  \\\n",
       "0 -0.577211 -0.336795 -0.381120  0.062758  0.541028  0.224812  -0.405831   \n",
       "1 -0.510955 -0.570012 -0.648578  0.820362  0.516906  0.260357  -0.490081   \n",
       "2  2.568210  6.205695  2.615714 -1.875834  2.044938 -1.478497  -2.182972   \n",
       "3 -0.694749 -0.687241 -1.029451  1.282035  0.532757 -0.333506  -0.355350   \n",
       "4  0.516609  0.476371  0.711138 -0.347497 -0.020200  0.353077   1.036593   \n",
       "\n",
       "    fAlpha:    fDist:  class:  \n",
       "0  0.476803 -1.497826       1  \n",
       "1 -0.815397  0.153121       1  \n",
       "2  1.889174  0.842613       1  \n",
       "3 -0.658786 -1.031436       1  \n",
       "4 -0.881016  2.176369       1  "
      ]
     },
     "execution_count": 17,
     "metadata": {},
     "output_type": "execute_result"
    }
   ],
   "source": [
    "df = df.drop(['fConc1:'],axis=1)\n",
    "df.head()"
   ]
  },
  {
   "cell_type": "markdown",
   "metadata": {},
   "source": [
    "## Preliminary observation\n",
    "\n",
    "* For this data simple classification is not important, since classifying h event as g is worse than classifying g event as h. For comparing different classifier it is better to use ROC curve.\n",
    "* Data does not have any missing values or null values. Also from the data we can say that ID column is not important , we can just drop that from our dataframe.\n",
    "* After normalization we may say it is better to visualize now. Conf is calculated using ratio of sum of two highest pixels over fSize and  fConc1 calculated by ratio of highest pixel over fSize. Also there values are pretty symmetrical, we can say from the visualiztion. So, it is not a harm to drop one of the column or drop both column and make a new one which is average of both."
   ]
  },
  {
   "cell_type": "markdown",
   "metadata": {},
   "source": [
    "# III. Method\n",
    "\n",
    "Here, We implemented four classification algorithm. It is supervised learning, we have lable of our data. We implemented binary classification. So, output will be {-1 , 1}. Four method given below:\n",
    "\n",
    "1.**Pocket Algorithm**:  In this binary classification method we just first predict our data and then compare with our lable. After that we try to update our weight according to it. We used \n",
    "$$\n",
    "    \\\\w^{(k+1)} = w^{(k)} + alpha*t_i *x_i \n",
    "$$\n",
    "this gradient equation. Here we give maximum iteration for that time we will update w unless it converged before. Only difference between this method and precepton algorithm is, we will pick best w in pocket algorithm among all w. It takes so much meomery and time to compute. \n",
    "\n",
    "2.**QDA** : It is also classification model but we can do multiclass classification in QDA. We use Gaussian Distribution and Naive Bayes theorem in this. We find prior which means probablity of one class coming in the data and sigma which is covariance of data. Then using that we find\n",
    "\n",
    "$$\n",
    "\\delta_k(x) = -\\frac{1}{2} \\ln \\vert \\boldsymbol\\Sigma_k \\vert - \\frac{1}{2} (x - \\boldsymbol\\mu_k)^\\top \\boldsymbol\\Sigma_k^{-1} (x - \\boldsymbol\\mu_k) + \\ln P(T = k). \n",
    "$$\n",
    "\n",
    "Now, for a new sample $\\tilde{x}$, we can predict the label with\n",
    "\n",
    "$$\n",
    "y = \\arg\\max_k \\delta_k(\\tilde{x}). \n",
    "$$\n",
    "It will take a lot less time compare to pocket algorithm but accuracy wll be not that good.\n",
    "\n",
    "3.**LDA** : It is same as QDA only difference between them is that, in LDA we will not take different sigma for different class instead we will see whole data's covariance. It is easily compute and take very less time and meomery.\n",
    "\n",
    "4.**Logistic Regression** : It is kind of similar to pocket algorithm, just here we will use softmax function and we will use different weight for different class. There will be as much output as classes we have. We can also use sigmoid function instead of softmax. This kind of function is used so we can discrimate two class which has nearly exact probability. We will pick class which has highest value among all class probablity output. \n",
    " "
   ]
  },
  {
   "cell_type": "markdown",
   "metadata": {},
   "source": [
    "## Code Implemetation: \n",
    "\n",
    "* First we inheritent Abstract base class in our Basemodelclass. In that we define abstract method train and use. It is abstract method, we just pass in defination. So, we can overwrite in parent class.\n",
    "* After that we make a class of Classifier which inheritent BaseModel class. Here we initialized w,stdX and meanX to none in _init_ method . Then check_matrix is just for checking that it is 2-d matrix. Add-ones is for adding bias means here we are adding ones in new first column. Normalize for normalizing given data using mean and stander deviation.Train and use is abstract method which we just pass.\n",
    "* Now, in pocket algorithm I first intialize maxiter, init_w ,w_pocket and alpha. I give default value of maxiter to 10, alpha to one and init_w to ones. After I made train method. I am giving X data and T target lable as argument. First I am adding bias to data and then intialize weight with zero,one or random according to argument when we call this method. Now if it will converge then I will break the loop otherwise it will run maxiter times. I am also comparing weight with old weight and picking best weight among all. In use method, I am adding bias to data and just returning dot product of data and best weight. \n",
    "* Qda is quite simple. First I am finding prior and sigma of both classes after normalize the data using normalize function. Here, prior means probablity of particular class occurance and sigma means covariance of features. Then I made calculation fuction which will calculate delta. I made use method, in which I am finding delta of both class. And returning class which has bigger delta.\n",
    "* LDA method is as similar as QDA. Just, there is only single sigma. \n",
    "* Now, last one is logistic regression. In that first I made softmax function and after using that I made g function. Then I used panda's dummmies function to make target dataframe with total column as total class and used that to intialize different weight for different class with zero,one or random. We will update each class weight maxiter time and if it converge before than it will break. In use method, I am just adding bias and then I just compare each class value for particular instance. Which class has higher value for that instance, we classify that instance to that class.   "
   ]
  },
  {
   "cell_type": "markdown",
   "metadata": {},
   "source": [
    "### A. Super Classs Definition"
   ]
  },
  {
   "cell_type": "code",
   "execution_count": 18,
   "metadata": {},
   "outputs": [],
   "source": [
    "import numpy as np\n",
    "from abc import ABC, abstractmethod \n",
    "import abc\n",
    "# Super class for machine learning models \n",
    "\n",
    "class BaseModel(ABC):\n",
    "    \"\"\" Super class for ITCS Machine Learning Class\"\"\"\n",
    "    \n",
    "    @abstractmethod\n",
    "    def train(self, X, T):\n",
    "        pass\n",
    "\n",
    "    @abstractmethod\n",
    "    def use(self, X):\n",
    "        pass\n",
    "\n",
    "    \n",
    "\n",
    "class Classifier(BaseModel):\n",
    "    \"\"\"\n",
    "        Abstract class for classification \n",
    "        \n",
    "        Attributes\n",
    "        ==========\n",
    "        meanX       ndarray\n",
    "                    mean of inputs (from standardization)\n",
    "        stdX        ndarray\n",
    "                    standard deviation of inputs (standardization)\n",
    "    \"\"\"\n",
    "\n",
    "    def __init__(self, ):\n",
    "        self.meanX = None\n",
    "        self.stdX = None\n",
    "        self.w = None\n",
    "        \n",
    "\n",
    "    def normalize(self, X):\n",
    "        \"\"\" standardize the input X \"\"\"\n",
    "        \n",
    "        if not isinstance(X, np.ndarray):\n",
    "            X = np.asanyarray(X)\n",
    "\n",
    "        self.meanX = np.mean(X, 0)\n",
    "        self.stdX = np.std(X, 0)\n",
    "\n",
    "        # TODO: Finish this normalization\n",
    "        Xs = (X - self.meanX)/self.stdX\n",
    "        return Xs\n",
    "\n",
    "    def _check_matrix(self, mat, name):\n",
    "        if len(mat.shape) != 2:\n",
    "            raise ValueError(''.join([\"Wrong matrix \", name]))\n",
    "        \n",
    "    # add a basis\n",
    "    def add_ones(self, X):\n",
    "        \"\"\"\n",
    "            add a column basis to X input matrix\n",
    "        \"\"\"\n",
    "        self._check_matrix(X, 'X')\n",
    "        return np.hstack((np.ones((X.shape[0], 1)), X))\n",
    "\n",
    "    ####################################################\n",
    "    #### abstract funcitons ############################\n",
    "    @abc.abstractmethod\n",
    "    def train(self, X, T):\n",
    "        pass\n",
    "    \n",
    "    @abc.abstractmethod\n",
    "    def use(self, X):\n",
    "        pass "
   ]
  },
  {
   "cell_type": "markdown",
   "metadata": {},
   "source": [
    "### B. Pocket Algorithm\n"
   ]
  },
  {
   "cell_type": "code",
   "execution_count": 19,
   "metadata": {},
   "outputs": [],
   "source": [
    "class pocketalgorithm(Classifier): \n",
    "    \n",
    "    def __init__(self,maxiter = 10 ,alpha =0.1 ,init_w = 'ones' ): #default parameter\n",
    "        Classifier.__init__(self)\n",
    "        self.maxiter = maxiter\n",
    "        self.alpha = alpha\n",
    "        self.w_pocket = None\n",
    "        self.init_w = init_w\n",
    "        \n",
    "    def train(self, X, T):\n",
    "        from copy import copy\n",
    "        X =  self.add_ones(X)\n",
    "        N = X.shape[0]\n",
    "        \n",
    "        if self.init_w == 'zero':\n",
    "            self.w = np.zeros(X.shape[1])\n",
    "        elif self.init_w == 'ones':\n",
    "            self.w = np.ones(X.shape[1])\n",
    "        elif self.init_w == 'random':\n",
    "            self.w = np.random.rand(X.shape[1])\n",
    "\n",
    "        self.w_pocket = copy(self.w)\n",
    "        \n",
    "        for i in range(self.maxiter):\n",
    "            converged = True\n",
    "            for k in range(N):\n",
    "                y = self.w @ X[k]\n",
    "                if np.sign(y) != np.sign(T[k]):\n",
    "                    self.w += self.alpha * T[k] * X[k]\n",
    "                    converged = False\n",
    "                    if (np.sum(np.sign(X@self.w) == T) >= np.sum(np.sign(X@self.w_pocket) == T)): # it will take best w \n",
    "                        self.w_pocket[:] = self.w[:]   \n",
    "            if converged:\n",
    "                print(\"converged at \", i)\n",
    "                break\n",
    "\n",
    "\n",
    "           \n",
    "    def use(self, X):\n",
    "        X = self.add_ones(X)\n",
    "        return X@self.w_pocket\n",
    "          "
   ]
  },
  {
   "cell_type": "markdown",
   "metadata": {},
   "source": [
    "### C. QDA"
   ]
  },
  {
   "cell_type": "code",
   "execution_count": 20,
   "metadata": {},
   "outputs": [],
   "source": [
    "class QDA(Classifier):\n",
    "    def __init__(self):\n",
    "        super().__init__()\n",
    "    \n",
    "    def train(self,X,T):\n",
    "        self.prior1 = np.sum([x==1 for x in T])/T.shape[0] \n",
    "        self.prior2 = np.sum([x==-1 for x in T])/T.shape[0]\n",
    "        \n",
    "        Xn = self.normalize(X)\n",
    "        \n",
    "        self.mean1 = np.mean(Xn[T==1],0)\n",
    "        self.mean2 = np.mean(Xn[T==-1],0)\n",
    "        self.sigma1 = np.cov(Xn[T==1].T)\n",
    "        self.sigma2 = np.cov(Xn[T==-1].T)\n",
    "    \n",
    "    def calculation(self,X,mean,sigma,prior):\n",
    "        import numpy as np \n",
    "        sigma_inv = np.linalg.inv(sigma)\n",
    "        diff = X - mean\n",
    "        return -0.5  * np.log(np.linalg.det(sigma)) \\\n",
    "            - 0.5 * np.sum(diff @ sigma_inv * diff, axis=1) \\\n",
    "            + np.log(prior)\n",
    "        \n",
    "    def use(self,X):\n",
    "        Xs = self.normalize(X) \n",
    "        d1 = self.calculation(Xs,self.mean1,self.sigma1,self.prior1)\n",
    "        d2 = self.calculation(Xs,self.mean2,self.sigma2,self.prior2)\n",
    "        return [1 if d1[i]>d2[i] else -1 for i in range(d1.shape[0])]\n",
    "    \n",
    "        \n",
    "        \n",
    "    "
   ]
  },
  {
   "cell_type": "markdown",
   "metadata": {},
   "source": [
    "### D. LDA"
   ]
  },
  {
   "cell_type": "code",
   "execution_count": 21,
   "metadata": {},
   "outputs": [],
   "source": [
    "class LDA(Classifier):\n",
    "    def __init__(self):\n",
    "        super().__init__()\n",
    "    \n",
    "    def train(self,X,T):\n",
    "        self.prior1 = np.sum(T==1)/T.shape[0] \n",
    "        self.prior2 = np.sum(T==-1)/T.shape[0]\n",
    "        \n",
    "        Xn = self.normalize(X)\n",
    "        \n",
    "        self.mean1 = np.mean(Xn[T==1],0)\n",
    "        self.mean2 = np.mean(Xn[T==-1],0)\n",
    "        self.sigma = np.cov(Xn.T)\n",
    "        self.sigma_inv = np.linalg.inv(self.sigma)\n",
    "            \n",
    "    def calculation(self,X,mean,prior):\n",
    "        import numpy as np \n",
    "       \n",
    "        return np.sum((X@self.sigma_inv) * mean \\\n",
    "                - 0.5 * (mean@self.sigma_inv) * mean \\\n",
    "                + np.log(prior), axis=1)\n",
    "                      \n",
    "    def use(self,X):\n",
    "        Xs = self.normalize(X) \n",
    "        d1 = self.calculation(Xs,self.mean1,self.prior1)\n",
    "        d2 = self.calculation(Xs,self.mean2,self.prior2)\n",
    "        return [1 if d1[i]>d2[i] else -1 for i in range(d1.shape[0])]"
   ]
  },
  {
   "cell_type": "markdown",
   "metadata": {},
   "source": [
    "### E. Logistic Regression"
   ]
  },
  {
   "cell_type": "code",
   "execution_count": 22,
   "metadata": {},
   "outputs": [],
   "source": [
    "class LogisticRegression(Classifier):\n",
    "    \n",
    "    def __init__(self,maxiter = 10,alpha = 0.1,init_w = 'ones'):#default parameter\n",
    "        super().__init__()\n",
    "        self.maxiter = maxiter\n",
    "        self.alpha = alpha\n",
    "        self.init_w = init_w\n",
    "        \n",
    "    def softmax(self,X):\n",
    "        ex = np.exp(X) \n",
    "        return ex / (np.sum(ex, axis=1, keepdims=True) if len(X.shape) == 2 else np.sum(ex))\n",
    "    \n",
    "    def g(self,X):\n",
    "        return(self.softmax(X @ self.w))\n",
    "        \n",
    "    def train(self,X,T):\n",
    "        X1 = self.add_ones(X)\n",
    "        \n",
    "        T1 = pd.get_dummies(T) \n",
    "        if self.init_w == 'zero':\n",
    "            self.w = np.zeros((X1.shape[1],T1.shape[1]))\n",
    "        elif self.init_w == 'ones':\n",
    "            self.w = np.ones((X1.shape[1],T1.shape[1]))\n",
    "        elif self.init_w == 'random':\n",
    "            self.w = np.random.rand(X1.shape[1],T1.shape[1])\n",
    "            \n",
    "        for i in range(self.maxiter):\n",
    "            converged = True\n",
    "            y = self.g(X1)\n",
    "            self.w += self.alpha *X1.T@ (T1 - y)\n",
    "            if np.sum(self.use(X) == T) != T.shape[0]:\n",
    "                converged = False\n",
    "            if converged:\n",
    "                break\n",
    "            \n",
    "    def use(self,X):\n",
    "        X = self.add_ones(X)\n",
    "        return [-1 if x[0]>x[1] else 1 for x in self.g(X)]\n",
    "        "
   ]
  },
  {
   "cell_type": "markdown",
   "metadata": {},
   "source": [
    "# IV. Experiments\n",
    "\n",
    "## Disccusion  of different evaluation matrix\n",
    "\n",
    "* First of all for experiment and to evaluate all algorithm, I devide my data in two part. First 70% of data for training the model and 30% for finding accuracy.\n",
    "* I found confusion matrix of every algorithm from that we can get true negative(TN), true positive(TP), false positive(FP) and false negative(FN). Using this data we can find lots of measurement parameter to compare algorithms.\n",
    "\n",
    " \n",
    " --|- | + \n",
    " --|--|--\n",
    " - | True Negative (TN) | False Negative (FN)\n",
    " + | False Positive (FP) | True Positive (TP)\n",
    "\n",
    "\n",
    "\n",
    "- **Precision**: The accuracy of positive predictions. We can read this as *the ratio that my positive prediction is correct*.\n",
    "\n",
    "$$\n",
    "\\text{precision} = \\frac{\\text{TP}}{\\text{TP} + \\text{FP}}\n",
    "$$\n",
    "\n",
    "- **Recall** (Sensitivity or True Positive Rate): This measure give you how the model's prediction covers the positive class. \n",
    "\n",
    "$$\n",
    "\\text{recall} = \\frac{\\text{TP}}{\\text{TP} + \\text{FN}}\n",
    "$$\n",
    "\n",
    "- **Specificity** (True Negative Rate): Considering imblance or difference in class, we consider TNR as well. \n",
    "\n",
    "$$\n",
    "\\text{Specificity} = \\frac{\\text{TN}}{\\text{TN} + \\text{FP}}\n",
    "$$\n",
    "\n",
    "* I also found accuracy of each algorithm and compare with each other. We can also compare algorithm using F1 score which is just harmonic mean of recall and precision.\n",
    "* There are also two type of curve which we can use to measure algorithms. I used ROC curve to find best threshould for my pocket algorithm. We can also find area under curve of roc curve and compare with other algorithm. PR curve is just graph with x axis has value of precision and y axis has value of recall.\n",
    "* I used classification report method of sklearn to give a summary of classification, which has recall,precision andf1 score of each class.\n",
    "   "
   ]
  },
  {
   "cell_type": "markdown",
   "metadata": {},
   "source": [
    "#### Splitting data "
   ]
  },
  {
   "cell_type": "code",
   "execution_count": 23,
   "metadata": {},
   "outputs": [],
   "source": [
    "from sklearn.model_selection import train_test_split as tts\n",
    "X_train, X_test, Y_train, Y_test = tts(df.loc[:,df.columns!='class:'],df.loc[:,'class:'],test_size = 0.3,random_state = 42)#splitting data 70% for train and 30% for test \n",
    "X_train = X_train.reset_index(drop=True)\n",
    "Y_train = Y_train.reset_index(drop=True)\n",
    "X_test = X_test.reset_index(drop=True)\n",
    "Y_test = Y_test.reset_index(drop=True)"
   ]
  },
  {
   "cell_type": "code",
   "execution_count": 24,
   "metadata": {},
   "outputs": [],
   "source": [
    "def confusionmatrix(y_true,y_pre):\n",
    "    from sklearn.metrics import confusion_matrix as cm \n",
    "    Confusion_matrix = pd.DataFrame(cm(y_true,y_pre),index=[-1,1],columns=[-1,1])\n",
    "    return Confusion_matrix"
   ]
  },
  {
   "cell_type": "code",
   "execution_count": 25,
   "metadata": {},
   "outputs": [],
   "source": [
    "def accuracy(y_true,y_pre):\n",
    "    from sklearn.metrics import accuracy_score \n",
    "    accuracy_score = accuracy_score(y_true,y_pre)\n",
    "    return accuracy_score"
   ]
  },
  {
   "cell_type": "code",
   "execution_count": 26,
   "metadata": {},
   "outputs": [],
   "source": [
    "def classification_report(y_true,y_pre):\n",
    "    from sklearn.metrics import classification_report\n",
    "    target_value = ['h','g']\n",
    "    print(classification_report(y_true, y_pre,target_names= target_value)) "
   ]
  },
  {
   "cell_type": "markdown",
   "metadata": {},
   "source": [
    "### Pocket Algorithm Evaluation:"
   ]
  },
  {
   "cell_type": "code",
   "execution_count": 27,
   "metadata": {},
   "outputs": [],
   "source": [
    "pa = pocketalgorithm(25,0.01,'random') \n",
    "# here first parameter is maxiter, second one is alpha rate and last one is for weight assignment\n",
    "pa.train(X_train,Y_train)\n",
    "pocket_pre = pa.use(X_test)"
   ]
  },
  {
   "cell_type": "code",
   "execution_count": 28,
   "metadata": {},
   "outputs": [
    {
     "data": {
      "text/plain": [
       "Text(0.5, 1.0, 'prediction after taking 0 as threshold')"
      ]
     },
     "execution_count": 28,
     "metadata": {},
     "output_type": "execute_result"
    },
    {
     "data": {
      "image/png": "[encoded data removed]",
      "text/plain": [
       "<Figure size 1152x432 with 2 Axes>"
      ]
     },
     "metadata": {
      "needs_background": "light"
     },
     "output_type": "display_data"
    }
   ],
   "source": [
    "pocket_pre1 = [1 if i>0 else -1 for i in pocket_pre] #keeping threshold 0 \n",
    "fig = plt.figure(figsize=(16,6))\n",
    "plt.subplot(1,2,1)\n",
    "plt.plot(pocket_pre,'go')\n",
    "plt.plot(Y_test,'rx')\n",
    "plt.title('prediction without threshold')\n",
    "plt.subplot(1,2,2)\n",
    "plt.plot(pocket_pre1,'bo')\n",
    "plt.title('prediction after taking 0 as threshold')"
   ]
  },
  {
   "cell_type": "code",
   "execution_count": 29,
   "metadata": {},
   "outputs": [
    {
     "data": {
      "text/html": [
       "<div>\n",
       "<style scoped>\n",
       "    .dataframe tbody tr th:only-of-type {\n",
       "        vertical-align: middle;\n",
       "    }\n",
       "\n",
       "    .dataframe tbody tr th {\n",
       "        vertical-align: top;\n",
       "    }\n",
       "\n",
       "    .dataframe thead th {\n",
       "        text-align: right;\n",
       "    }\n",
       "</style>\n",
       "<table border=\"1\" class=\"dataframe\">\n",
       "  <thead>\n",
       "    <tr style=\"text-align: right;\">\n",
       "      <th></th>\n",
       "      <th>-1</th>\n",
       "      <th>1</th>\n",
       "    </tr>\n",
       "  </thead>\n",
       "  <tbody>\n",
       "    <tr>\n",
       "      <th>-1</th>\n",
       "      <td>1269</td>\n",
       "      <td>732</td>\n",
       "    </tr>\n",
       "    <tr>\n",
       "      <th>1</th>\n",
       "      <td>430</td>\n",
       "      <td>3275</td>\n",
       "    </tr>\n",
       "  </tbody>\n",
       "</table>\n",
       "</div>"
      ],
      "text/plain": [
       "      -1     1\n",
       "-1  1269   732\n",
       " 1   430  3275"
      ]
     },
     "execution_count": 29,
     "metadata": {},
     "output_type": "execute_result"
    }
   ],
   "source": [
    "confusionmatrix(Y_test,pocket_pre1)"
   ]
  },
  {
   "cell_type": "code",
   "execution_count": 30,
   "metadata": {},
   "outputs": [
    {
     "name": "stdout",
     "output_type": "stream",
     "text": [
      "Accuracy of pocket algorithm: 79.63547143357869\n"
     ]
    }
   ],
   "source": [
    "print(\"Accuracy of pocket algorithm:\",accuracy(Y_test,pocket_pre1)*100)"
   ]
  },
  {
   "cell_type": "code",
   "execution_count": 31,
   "metadata": {},
   "outputs": [
    {
     "name": "stdout",
     "output_type": "stream",
     "text": [
      "              precision    recall  f1-score   support\n",
      "\n",
      "           h       0.75      0.63      0.69      2001\n",
      "           g       0.82      0.88      0.85      3705\n",
      "\n",
      "   micro avg       0.80      0.80      0.80      5706\n",
      "   macro avg       0.78      0.76      0.77      5706\n",
      "weighted avg       0.79      0.80      0.79      5706\n",
      "\n"
     ]
    }
   ],
   "source": [
    "classification_report(Y_test,pocket_pre1)"
   ]
  },
  {
   "cell_type": "code",
   "execution_count": 32,
   "metadata": {},
   "outputs": [
    {
     "data": {
      "image/png": "[encoded data removed]",
      "text/plain": [
       "<Figure size 432x288 with 1 Axes>"
      ]
     },
     "metadata": {
      "needs_background": "light"
     },
     "output_type": "display_data"
    }
   ],
   "source": [
    "from sklearn.metrics import roc_curve\n",
    "pocket_pre2 = [1 if i>0.5 else -1 for i in pocket_pre]\n",
    "pocket_pre3 = [1 if i>=1 else -1 for i in pocket_pre]\n",
    "pocket_pre4 = [1 if i>(-0.5) else -1 for i in pocket_pre]\n",
    "pocket_pre5 = [1 if i>(0.1) else -1 for i in pocket_pre]\n",
    "pocket_pre6 = [1 if i>(-0.1) else -1 for i in pocket_pre]\n",
    "\n",
    "fpr_pa1, tpr_pa1, _ = roc_curve(Y_test,pocket_pre1)\n",
    "fpr_pa2, tpr_pa2, _ = roc_curve(Y_test,pocket_pre2)\n",
    "fpr_pa3, tpr_pa3, _ = roc_curve(Y_test,pocket_pre3)\n",
    "fpr_pa4, tpr_pa4, _ = roc_curve(Y_test,pocket_pre4)\n",
    "fpr_pa5, tpr_pa5, _ = roc_curve(Y_test,pocket_pre5)\n",
    "fpr_pa6, tpr_pa6, _ = roc_curve(Y_test,pocket_pre6)\n",
    "\n",
    "plt.plot([0, 1], [0, 1], 'k--')\n",
    "plt.plot(fpr_pa1, tpr_pa1, label='threshould 0')\n",
    "plt.plot(fpr_pa2, tpr_pa2, label='threshould 0.5')\n",
    "plt.plot(fpr_pa3, tpr_pa3, label='threshould 1')\n",
    "plt.plot(fpr_pa4, tpr_pa4, label='threshould -0.5')\n",
    "plt.plot(fpr_pa5, tpr_pa5, label='threshould 0.1')\n",
    "plt.plot(fpr_pa6, tpr_pa6, label='threshould -0.1')\n",
    "\n",
    "plt.xlabel('False positive rate')\n",
    "plt.ylabel('True positive rate')\n",
    "plt.title('ROC curve')\n",
    "plt.legend(loc='best')\n",
    "plt.show()\n"
   ]
  },
  {
   "cell_type": "markdown",
   "metadata": {},
   "source": [
    "By seeing above roc curve, we can say threshoulds 0 is the way to go. We are getting diagonal line for 0.5,-0.5 and 1 because our data lie between 0.25 to -0.25. "
   ]
  },
  {
   "cell_type": "markdown",
   "metadata": {},
   "source": [
    "### QDA Evaluation:"
   ]
  },
  {
   "cell_type": "code",
   "execution_count": 33,
   "metadata": {},
   "outputs": [],
   "source": [
    "qda = QDA()\n",
    "qda.train(X_train,Y_train)\n",
    "qda_pre = qda.use(X_test)"
   ]
  },
  {
   "cell_type": "code",
   "execution_count": 34,
   "metadata": {},
   "outputs": [
    {
     "data": {
      "text/html": [
       "<div>\n",
       "<style scoped>\n",
       "    .dataframe tbody tr th:only-of-type {\n",
       "        vertical-align: middle;\n",
       "    }\n",
       "\n",
       "    .dataframe tbody tr th {\n",
       "        vertical-align: top;\n",
       "    }\n",
       "\n",
       "    .dataframe thead th {\n",
       "        text-align: right;\n",
       "    }\n",
       "</style>\n",
       "<table border=\"1\" class=\"dataframe\">\n",
       "  <thead>\n",
       "    <tr style=\"text-align: right;\">\n",
       "      <th></th>\n",
       "      <th>-1</th>\n",
       "      <th>1</th>\n",
       "    </tr>\n",
       "  </thead>\n",
       "  <tbody>\n",
       "    <tr>\n",
       "      <th>-1</th>\n",
       "      <td>931</td>\n",
       "      <td>1070</td>\n",
       "    </tr>\n",
       "    <tr>\n",
       "      <th>1</th>\n",
       "      <td>178</td>\n",
       "      <td>3527</td>\n",
       "    </tr>\n",
       "  </tbody>\n",
       "</table>\n",
       "</div>"
      ],
      "text/plain": [
       "     -1     1\n",
       "-1  931  1070\n",
       " 1  178  3527"
      ]
     },
     "execution_count": 34,
     "metadata": {},
     "output_type": "execute_result"
    }
   ],
   "source": [
    "confusionmatrix(Y_test,qda_pre)"
   ]
  },
  {
   "cell_type": "code",
   "execution_count": 35,
   "metadata": {},
   "outputs": [
    {
     "name": "stdout",
     "output_type": "stream",
     "text": [
      "Accuracy of QDA: 78.12828601472135\n"
     ]
    }
   ],
   "source": [
    "print(\"Accuracy of QDA:\",accuracy(Y_test,qda_pre)*100)"
   ]
  },
  {
   "cell_type": "code",
   "execution_count": 36,
   "metadata": {},
   "outputs": [
    {
     "name": "stdout",
     "output_type": "stream",
     "text": [
      "              precision    recall  f1-score   support\n",
      "\n",
      "           h       0.84      0.47      0.60      2001\n",
      "           g       0.77      0.95      0.85      3705\n",
      "\n",
      "   micro avg       0.78      0.78      0.78      5706\n",
      "   macro avg       0.80      0.71      0.72      5706\n",
      "weighted avg       0.79      0.78      0.76      5706\n",
      "\n"
     ]
    }
   ],
   "source": [
    "classification_report(Y_test,qda_pre)"
   ]
  },
  {
   "cell_type": "markdown",
   "metadata": {},
   "source": [
    "### LDA Evaluation:"
   ]
  },
  {
   "cell_type": "code",
   "execution_count": 37,
   "metadata": {},
   "outputs": [],
   "source": [
    "lda = LDA()\n",
    "lda.train(X_train,Y_train)\n",
    "lda_pre = lda.use(X_test)"
   ]
  },
  {
   "cell_type": "code",
   "execution_count": 38,
   "metadata": {},
   "outputs": [
    {
     "data": {
      "text/html": [
       "<div>\n",
       "<style scoped>\n",
       "    .dataframe tbody tr th:only-of-type {\n",
       "        vertical-align: middle;\n",
       "    }\n",
       "\n",
       "    .dataframe tbody tr th {\n",
       "        vertical-align: top;\n",
       "    }\n",
       "\n",
       "    .dataframe thead th {\n",
       "        text-align: right;\n",
       "    }\n",
       "</style>\n",
       "<table border=\"1\" class=\"dataframe\">\n",
       "  <thead>\n",
       "    <tr style=\"text-align: right;\">\n",
       "      <th></th>\n",
       "      <th>-1</th>\n",
       "      <th>1</th>\n",
       "    </tr>\n",
       "  </thead>\n",
       "  <tbody>\n",
       "    <tr>\n",
       "      <th>-1</th>\n",
       "      <td>2</td>\n",
       "      <td>1999</td>\n",
       "    </tr>\n",
       "    <tr>\n",
       "      <th>1</th>\n",
       "      <td>0</td>\n",
       "      <td>3705</td>\n",
       "    </tr>\n",
       "  </tbody>\n",
       "</table>\n",
       "</div>"
      ],
      "text/plain": [
       "    -1     1\n",
       "-1   2  1999\n",
       " 1   0  3705"
      ]
     },
     "execution_count": 38,
     "metadata": {},
     "output_type": "execute_result"
    }
   ],
   "source": [
    "confusionmatrix(Y_test,lda_pre)"
   ]
  },
  {
   "cell_type": "code",
   "execution_count": 39,
   "metadata": {},
   "outputs": [
    {
     "name": "stdout",
     "output_type": "stream",
     "text": [
      "Accuracy of LDA: 64.96670171749037\n"
     ]
    }
   ],
   "source": [
    "print(\"Accuracy of LDA:\",accuracy(Y_test,lda_pre)*100)"
   ]
  },
  {
   "cell_type": "code",
   "execution_count": 40,
   "metadata": {},
   "outputs": [
    {
     "name": "stdout",
     "output_type": "stream",
     "text": [
      "              precision    recall  f1-score   support\n",
      "\n",
      "           h       1.00      0.00      0.00      2001\n",
      "           g       0.65      1.00      0.79      3705\n",
      "\n",
      "   micro avg       0.65      0.65      0.65      5706\n",
      "   macro avg       0.82      0.50      0.39      5706\n",
      "weighted avg       0.77      0.65      0.51      5706\n",
      "\n"
     ]
    }
   ],
   "source": [
    "classification_report(Y_test,lda_pre)"
   ]
  },
  {
   "cell_type": "markdown",
   "metadata": {},
   "source": [
    "### Logistic Regression Evalution:"
   ]
  },
  {
   "cell_type": "code",
   "execution_count": 41,
   "metadata": {},
   "outputs": [
    {
     "name": "stderr",
     "output_type": "stream",
     "text": [
      "C:\\Users\\divya\\AppData\\Roaming\\Python\\Python37\\site-packages\\ipykernel_launcher.py:10: RuntimeWarning: overflow encountered in exp\n",
      "  # Remove the CWD from sys.path while we load stuff.\n",
      "C:\\Users\\divya\\AppData\\Roaming\\Python\\Python37\\site-packages\\ipykernel_launcher.py:11: RuntimeWarning: invalid value encountered in true_divide\n",
      "  # This is added back by InteractiveShellApp.init_path()\n"
     ]
    },
    {
     "name": "stdout",
     "output_type": "stream",
     "text": [
      "Accuracy at alpha 0.01 : 64.931650893796\n",
      "Accuracy at alpha 0.005 : 71.34595162986331\n",
      "Accuracy at alpha 0.001 : 68.57693655800912\n",
      "Accuracy at alpha 0.0001 : 79.1447599018577\n",
      "Accuracy at alpha 1e-05 : 79.09218366631616\n"
     ]
    }
   ],
   "source": [
    "a = [0.01,0.005,0.001,0.0001,0.00001] # seeing at different alpha value\n",
    "lr = [LogisticRegression(1000,0.01,'random'),LogisticRegression(1000,0.005,'random'),LogisticRegression(1000,0.001,'random'),LogisticRegression(1000,0.0001,'random'),LogisticRegression(1000,0.00001,'random')]\n",
    "lr_pre = []\n",
    "for i in range(5):\n",
    "    lr[i].train(X_train,Y_train)\n",
    "    lr_pre.append(lr[i].use(X_test))\n",
    "    print('Accuracy at alpha',a[i],':',accuracy(Y_test,lr_pre[i])*100)"
   ]
  },
  {
   "cell_type": "code",
   "execution_count": 42,
   "metadata": {},
   "outputs": [
    {
     "data": {
      "image/png": "[encoded data removed]",
      "text/plain": [
       "<Figure size 432x288 with 1 Axes>"
      ]
     },
     "metadata": {
      "needs_background": "light"
     },
     "output_type": "display_data"
    }
   ],
   "source": [
    "fig, ax = plt.subplots()\n",
    "point = np.arange(5)\n",
    "y = [accuracy(Y_test,i)*100 for i in lr_pre]\n",
    "ax.plot(point,y)\n",
    "ax.set(xlabel='alpha', ylabel='accuracy',\n",
    "       title='Different accuracy at different alpha')\n",
    "plt.xticks(point, ('0.01', '0.005', '0.001', '0.0001','0.00001'))\n",
    "plt.ylim(0,100)\n",
    "plt.show()\n",
    "\n"
   ]
  },
  {
   "cell_type": "markdown",
   "metadata": {},
   "source": [
    "Maximum at alpha 0.0001 and now will be using this only ."
   ]
  },
  {
   "cell_type": "code",
   "execution_count": null,
   "metadata": {},
   "outputs": [],
   "source": [
    "a = [0.01,0.005,0.001,0.0001,0.00001]\n",
    "for i in range(5):\n",
    "    print('Classification Report at',a[i],':')\n",
    "    classification_report(Y_test,lr_pre[i])"
   ]
  },
  {
   "cell_type": "code",
   "execution_count": null,
   "metadata": {},
   "outputs": [],
   "source": [
    "from sklearn.metrics import precision_recall_curve\n",
    "import matplotlib.pyplot as plt\n",
    "from sklearn.utils.fixes import signature\n",
    "\n",
    "precision, recall, _ = precision_recall_curve(Y_test,lr_pre[3])\n",
    "\n",
    "step_kwargs = ({'step': 'post'}\n",
    "               if 'step' in signature(plt.fill_between).parameters\n",
    "               else {})\n",
    "plt.step(recall, precision, color='b', alpha=0.2,\n",
    "         where='post')\n",
    "plt.fill_between(recall, precision, color='b', **step_kwargs)\n",
    "\n",
    "plt.xlabel('Recall')\n",
    "plt.ylabel('Precision')\n",
    "plt.title('PR curve')"
   ]
  },
  {
   "cell_type": "markdown",
   "metadata": {},
   "source": [
    "### Accuracy of each algorithm on train data to see overfitting is happening or not."
   ]
  },
  {
   "cell_type": "code",
   "execution_count": null,
   "metadata": {},
   "outputs": [],
   "source": [
    "pocket_pre_train = pa.use(X_train)\n",
    "pocket_pre_train1 = [1 if i>0 else -1 for i in pocket_pre_train]\n",
    "qda_pre_train = qda.use(X_train)\n",
    "lda_pre_train = lda.use(X_train)\n",
    "lr_pre_train = lr[3].use(X_train)"
   ]
  },
  {
   "cell_type": "code",
   "execution_count": null,
   "metadata": {},
   "outputs": [],
   "source": [
    "print(\"Accuracy of Pocket Algorithm on train data:\",accuracy(Y_train,pocket_pre_train1)*100)\n",
    "print(\"Accuracy of QDA on train data:\",accuracy(Y_train,qda_pre_train)*100)\n",
    "print(\"Accuracy of LDA on train data:\",accuracy(Y_train,lda_pre_train)*100)\n",
    "print(\"Accuracy of Logistic Regression on train data:\",accuracy(Y_train,lr_pre_train)*100)"
   ]
  },
  {
   "cell_type": "markdown",
   "metadata": {},
   "source": [
    "## Comparing All the algorithms:"
   ]
  },
  {
   "cell_type": "code",
   "execution_count": null,
   "metadata": {},
   "outputs": [],
   "source": [
    "temp = np.arange(4)\n",
    "temp1 = [accuracy(Y_test,pocket_pre1)*100,accuracy(Y_test,qda_pre)*100,accuracy(Y_test,lda_pre)*100,accuracy(Y_test,lr_pre[3])*100]\n",
    "temp2 = [accuracy(Y_train,pocket_pre_train1)*100,accuracy(Y_train,qda_pre_train)*100,accuracy(Y_train,lda_pre_train)*100,accuracy(Y_train,lr_pre_train)*100]\n",
    "fig = plt.figure(figsize=(16,6))\n",
    "plt.subplot(1,2,1)\n",
    "plt.bar(temp, temp1)\n",
    "plt.xticks(temp, ('pocket algorithm', 'QDA', 'LDA', 'Logistic Regression'))\n",
    "plt.ylabel('Accuracy')\n",
    "plt.ylim(0,100)\n",
    "for i in range(4):\n",
    "    plt.text(i,temp1[i]/2+20,str(temp1[i]),rotation = 90)\n",
    "plt.title('On test data')    \n",
    "plt.subplot(1,2,2)\n",
    "plt.bar(temp, temp2,color = 'red')\n",
    "plt.xticks(temp, ('pocket algorithm', 'QDA', 'LDA', 'Logistic Regression'))\n",
    "plt.ylabel('Accuracy')\n",
    "plt.ylim(0,100)\n",
    "for i in range(4):\n",
    "    plt.text(i,temp2[i]/2+20,str(temp2[i]),rotation = 90)\n",
    "plt.title('On train data')  \n",
    "plt.show()"
   ]
  },
  {
   "cell_type": "markdown",
   "metadata": {},
   "source": [
    "# Conclusions\n",
    "\n",
    "* I learned and implemented four different kind of binary classification method Pocket algorithm, QDA , LDA and logistic regression. I also learned different measurment like precision, recall, F1 score, Roc curve, PR curve etc.\n",
    "* I learned different pandas method and sckit method while completing this assignment.\n",
    "* I got highest accuracy while using Pocket algorithm of almost 80% but it take more time. I am using maximum 25 iteration here. It is hard to compute it take lot of meoemry. For finding threshould, I used ROC curve. I also learned that after some iteration there will be not much variance happen in weights. Also I think, it is better to make random intial weight than intial weight of one or zero. \n",
    "* QDA and LDA is based on naive bayes equation and gaussian distribuation. They are faster and we don't have different parameter like learning rate and weight but It is less accurate. Particular on my data. LDA is weekest among all the algorithms for my data. \n",
    "* I found accuracy for different learning rate in logistic regression. I found maximum accuracy at 0.0001 alpha rate. We can use cross-validation to find best weight and alpha rate. I think in this method it is safe to put very less alpha rate than compare to other method.\n",
    "* It is very hard to get converged matrix in pocket and logistic regression method.  \n",
    "* Splitting data is also important while finding accuracy. If we keep less data in training then there will be chance of overfitting. I found accuracy on trainig and testing data, it has not much difference. So, I can say my data is not getting overfit.\n"
   ]
  },
  {
   "cell_type": "markdown",
   "metadata": {},
   "source": [
    "# References\n",
    "\n",
    "* http://nbviewer.jupyter.org/url/webpages.uncc.edu/mlee173/teach/itcs6156/notebooks/notes/Note-Classification.Sol.ipynb\n",
    "* http://nbviewer.jupyter.org/url/webpages.uncc.edu/mlee173/teach/itcs6156/notebooks/notes/Note-Linear%20Classification.Sol.ipynb\n",
    "* https://stackoverflow.com\n",
    "* http://scikit-learn.org/stable/modules/model_evaluation.html\n",
    "* Classification data : https://archive.ics.uci.edu/ml/datasets/magic+gamma+telescope"
   ]
  },
  {
   "cell_type": "markdown",
   "metadata": {},
   "source": [
    "# Extra Credit\n",
    "\n",
    "* [OPT 1] Search for a ordinal data set and apply your classifiers to it. \n",
    "  - Repeat the experiments on it. \n",
    "  - Do you have different observation from previous results? \n",
    "  - Were you able to observe that we discussed in class about logistic regression? \n",
    "  - For a full extra credit point, you need to discuss all bullet points in Results section.     \n",
    "\n",
    "\n",
    "* [OPT 2] Partition your data into five sets. Selecting one test set and the other for training, repeat your experiments and observe/analyze the 5 different training/testing errors.  "
   ]
  },
  {
   "cell_type": "markdown",
   "metadata": {},
   "source": [
    "## Grading\n",
    "\n",
    "DO NOT forget to submit your data! Your notebook is supposed to run well after running your codes.\n",
    "\n",
    "To help our TA's grading, please make an explicit section for each grading criteria. \n",
    "Again, this is a **writing assignment**. Please don't forget to properly explain your codes and results using Markdown cell. \n",
    "\n",
    "\n",
    "points |-- | description\n",
    "--|--|:--\n",
    "5 | Overview| states the objective and the appraoch \n",
    "15 | Data | \n",
    " | 5| description \n",
    " | 5| plots for understanding or analysis \n",
    " | 5| preliminary observation \n",
    "25 | Methods | \n",
    " |10| Summary of Classification models\n",
    " | 5| Explanation of codes\n",
    " |10| Pocket, LDA, QDA, Logistic Regression\n",
    "40 | Experiments \n",
    "| 5| Discussion about evaluation metrics\n",
    "| 5| Discussion about train and test accuracies\n",
    "|20| plots for results (5 for each algorithm)\n",
    "|10| Discussions about classificaion model comparison\n",
    "5 | |Conclusions \n",
    "5 | |Referemces\n",
    "5 | |Grammar and spelling error (Proofread please)"
   ]
  }
 ],
 "metadata": {
  "kernelspec": {
   "display_name": "Python 3",
   "language": "python",
   "name": "python3"
  },
  "language_info": {
   "codemirror_mode": {
    "name": "ipython",
    "version": 3
   },
   "file_extension": ".py",
   "mimetype": "text/x-python",
   "name": "python",
   "nbconvert_exporter": "python",
   "pygments_lexer": "ipython3",
   "version": "3.6.7"
  }
 },
 "nbformat": 4,
 "nbformat_minor": 2
}
